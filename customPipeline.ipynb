{
 "cells": [
  {
   "cell_type": "code",
   "execution_count": 22,
   "metadata": {},
   "outputs": [],
   "source": [
    "from tqdm import tqdm\n",
    "\n",
    "# arr = [x for x in range(1000000)]\n",
    "\n",
    "class Pipe:\n",
    "    def __init__(self):\n",
    "        self.pipes = []\n",
    "    \n",
    "    # Applies all the functions in pipeline to each element. Returns modified array\n",
    "    def __call__(self, data):\n",
    "        for func in self.pipes:\n",
    "            data = list(map(func, tqdm(data, desc=func.__name__)))\n",
    "        return data\n",
    "    \n",
    "    # Adds function to Pipe.process pipeline\n",
    "    def addPipe(self, func):\n",
    "        # Checking for type of argument\n",
    "        if type(func) is list:\n",
    "            # arg func is <class 'list'>\n",
    "            self.pipes += func\n",
    "        elif hasattr(func, '__call__'):\n",
    "            # arg func is <class 'function'>\n",
    "            self.pipes.append(func)\n",
    "        \n",
    "# def addOne(item):\n",
    "#     return item + 1\n",
    "\n",
    "# def square(item):\n",
    "#     return item ** 2\n",
    "\n",
    "# def printItem(item):\n",
    "#     print(item)\n",
    "#     return item\n",
    "\n",
    "# pipe = Pipe()\n",
    "# pipe.addPipe([addOne])\n",
    "# pipe.addPipe([square])\n",
    "# res = pipe(arr)"
   ]
  },
  {
   "cell_type": "code",
   "execution_count": null,
   "metadata": {},
   "outputs": [],
   "source": []
  }
 ],
 "metadata": {
  "kernelspec": {
   "display_name": "Python 3",
   "language": "python",
   "name": "python3"
  },
  "language_info": {
   "codemirror_mode": {
    "name": "ipython",
    "version": 3
   },
   "file_extension": ".py",
   "mimetype": "text/x-python",
   "name": "python",
   "nbconvert_exporter": "python",
   "pygments_lexer": "ipython3",
   "version": "3.7.1"
  }
 },
 "nbformat": 4,
 "nbformat_minor": 2
}
