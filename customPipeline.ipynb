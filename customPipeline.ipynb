{
 "cells": [
  {
   "cell_type": "code",
   "execution_count": 51,
   "metadata": {},
   "outputs": [],
   "source": [
    "arr = [1,2,3,4,5,6]\n",
    "\n",
    "class Pipe:\n",
    "    def __init__(self):\n",
    "        self.pipes = []\n",
    "    \n",
    "    # Applies all the functions in pipeline to each element. Returns modified array\n",
    "    def __call__(self, data, display=False):\n",
    "        for func in self.pipes:\n",
    "            if display:\n",
    "                print(\"Applying\", func)\n",
    "            data = list(map(func, data))\n",
    "        return data\n",
    "    \n",
    "    # Adds function to Pipe.process pipeline\n",
    "    def addPipe(self, func):\n",
    "        # Checking for type of argument\n",
    "        if type(func) is list:\n",
    "            # arg func is <class 'list'>\n",
    "            self.pipes += func\n",
    "        elif hasattr(func, '__call__'):\n",
    "            # arg func is <class 'function'>\n",
    "            self.pipes.append(func)\n",
    "        \n",
    "def addOne(item):\n",
    "    return item + 1\n",
    "\n",
    "def square(item):\n",
    "    return item ** 2\n",
    "\n",
    "def printItem(item):\n",
    "    print(item)\n",
    "    return item\n",
    "\n",
    "# pipe = Pipe()\n",
    "# pipe.addPipe([addOne, printItem])\n",
    "# pipe.addPipe([square, printItem])\n",
    "# print(pipe.pipes)\n",
    "# pipe(arr, display=True)"
   ]
  }
 ],
 "metadata": {
  "kernelspec": {
   "display_name": "Python 3",
   "language": "python",
   "name": "python3"
  },
  "language_info": {
   "codemirror_mode": {
    "name": "ipython",
    "version": 3
   },
   "file_extension": ".py",
   "mimetype": "text/x-python",
   "name": "python",
   "nbconvert_exporter": "python",
   "pygments_lexer": "ipython3",
   "version": "3.7.1"
  }
 },
 "nbformat": 4,
 "nbformat_minor": 2
}
