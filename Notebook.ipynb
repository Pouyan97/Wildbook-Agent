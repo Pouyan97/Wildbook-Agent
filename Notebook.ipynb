{
 "cells": [
  {
   "cell_type": "code",
   "execution_count": 18,
   "metadata": {},
   "outputs": [],
   "source": [
    "# Reading .properties file, returns a dictionary\n",
    "def loadProperties(filepath, sep='=', com='#'):\n",
    "    props = {}\n",
    "    with open(filepath, \"rt\") as f:\n",
    "        for line in f:\n",
    "            l = line.strip()\n",
    "            if l and not l.startswith(com):\n",
    "                key_value = l.split(sep)\n",
    "                key = key_value[0].strip()\n",
    "                value = key_value[1].strip()\n",
    "                try:\n",
    "                    props[value].append(key)\n",
    "                except:\n",
    "                    props[value] = [key]\n",
    "    return props"
   ]
  },
  {
   "cell_type": "code",
   "execution_count": 28,
   "metadata": {
    "scrolled": true
   },
   "outputs": [
    {
     "name": "stdout",
     "output_type": "stream",
     "text": [
      "6b :  ['taiwan']\n",
      "1a1 :  ['exmouth', 'tantabiddi']\n",
      "6a2 :  ['cebu', 'oslob', 'sumilon', 'moalboal', 'kawasan', 'bohol']\n"
     ]
    }
   ],
   "source": [
    "props = loadProperties('submitActionClass.properties')\n",
    "\n",
    "# Thats how props looks now\n",
    "print('6b : ', props['6b'])\n",
    "print('1a1 : ', props['1a1'])\n",
    "print('6a2 : ', props['6a2'])"
   ]
  },
  {
   "cell_type": "code",
   "execution_count": null,
   "metadata": {},
   "outputs": [],
   "source": []
  },
  {
   "cell_type": "code",
   "execution_count": 75,
   "metadata": {},
   "outputs": [],
   "source": [
    "import csv\n",
    "\n",
    "# Reading WEKA file, returning a dictionary\n",
    "def loadWEKA(filename, limit=0):\n",
    "    attributes = [] # Will store csv columns names here\n",
    "    data = []       # Will store readed file here\n",
    "    \n",
    "    with open(filename, \"r\") as csv_file:\n",
    "        reader = csv.reader(csv_file, delimiter=',', quotechar=\"'\")\n",
    "        \n",
    "        line_num = 0\n",
    "        dataBegan = False\n",
    "        \n",
    "        for row in reader:\n",
    "            # Getting info from @ATTRIBUTE's\n",
    "            if not dataBegan:\n",
    "                if len(row) > 0:\n",
    "                    # Extracting @ATTRIBUTE's\n",
    "                    row_splitted = row[0].split()\n",
    "                    if row_splitted[0] == \"@ATTRIBUTE\":\n",
    "                        attributes.append(row_splitted[1])\n",
    "                    \n",
    "                    # If we found that @data started\n",
    "                    if row[0] == \"@data\":\n",
    "                        dataBegan = True\n",
    "                        continue\n",
    "            \n",
    "            # Reading only payload of the file\n",
    "            if dataBegan:\n",
    "                # Appending row into data array\n",
    "                data.append(row)\n",
    "                line_num += 1\n",
    "                \n",
    "                # Limiting the number of rows to read\n",
    "                if line_num > limit and limit > 0:\n",
    "                    break\n",
    "        \n",
    "    return (data, attributes)"
   ]
  },
  {
   "cell_type": "code",
   "execution_count": 83,
   "metadata": {},
   "outputs": [
    {
     "name": "stdout",
     "output_type": "stream",
     "text": [
      "Thats how weka file looks like now. Array of Arrays:\n",
      "\n",
      "[['1892013124614', '', '', '', '', 'East Contoy Island Mexico', '2c'], ['1892013125327', '', '', '', '', 'East Contoy Island Mexico', '2c'], ['189201375730', '', '', '', '', 'Red Sea  Marsa Alam   Dive Elphinstone Reef  North plateau', 'RedSea'], ['18a3e0a1-60fb-41e6-91a3-e887b5110d16', '', '', '', '', 'Red Sea', 'RedSea-ShibHabil'], ['18aeea70-955b-4cc4-ad19-f195ffa458d0', '', '', '', '', 'Talisayan Misamis Oriental Philippines', '6a'], ['18af726f-e98d-4ebb-a8ad-a91df6d9b78f', '', '', '', '', 'Black Rock Atoll Tubbataha Reef Palawan', '6a4'], ['18b6a564-4320-48bf-a61c-bc9613c547d8', '', '', '', '', 'Gulf of Tadjoura Djibouti Africa', 'Djibouti'], ['18cc82f0-03b8-493d-a2bc-3ee7ef659b0d', '', '', '', '', 'St Helena Island South Atlantic', '2h1'], ['18dd9c81-92d8-4ecd-b433-ee827a78f00b', '', '', '', '', 'Ningaloo Reef Western Australia', '1a'], ['1910200614191', '', '', '', '', 'Off Black Hills Utila Honduras', '2a']]\n",
      "\n",
      "\n",
      "\n",
      "Thats the column names loadWEKA() extracted:\n",
      "\n",
      "['encounter', 'video', 'title', 'tags', 'description', 'location', 'class']\n"
     ]
    }
   ],
   "source": [
    "(weka, attr) = loadWEKA('youTubeLocationIDWeka.csv', limit=0)\n",
    "\n",
    "print(\"Thats how weka file looks like now. Array of Arrays:\\n\")\n",
    "print(weka[:10])\n",
    "print('\\n\\n')\n",
    "\n",
    "print(\"Thats the column names loadWEKA() extracted:\\n\")\n",
    "print(attr)"
   ]
  },
  {
   "cell_type": "code",
   "execution_count": null,
   "metadata": {},
   "outputs": [],
   "source": []
  },
  {
   "cell_type": "code",
   "execution_count": null,
   "metadata": {},
   "outputs": [],
   "source": []
  }
 ],
 "metadata": {
  "kernelspec": {
   "display_name": "Python 3",
   "language": "python",
   "name": "python3"
  },
  "language_info": {
   "codemirror_mode": {
    "name": "ipython",
    "version": 3
   },
   "file_extension": ".py",
   "mimetype": "text/x-python",
   "name": "python",
   "nbconvert_exporter": "python",
   "pygments_lexer": "ipython3",
   "version": "3.7.1"
  }
 },
 "nbformat": 4,
 "nbformat_minor": 2
}
