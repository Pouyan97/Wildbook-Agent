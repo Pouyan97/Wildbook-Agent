{
 "cells": [
  {
   "cell_type": "markdown",
   "metadata": {},
   "source": [
    "## Loading .properties file"
   ]
  },
  {
   "cell_type": "code",
   "execution_count": 1,
   "metadata": {},
   "outputs": [],
   "source": [
    "# Reading .properties file, returns a dictionary\n",
    "def loadProperties(filepath, sep='=', com='#'):\n",
    "    props = {}\n",
    "    with open(filepath, \"rt\") as f:\n",
    "        for line in f:\n",
    "            l = line.strip()\n",
    "            if l and not l.startswith(com):\n",
    "                key_value = l.split(sep)\n",
    "                key = key_value[0].strip()\n",
    "                value = key_value[1].strip()\n",
    "                props[key] = value\n",
    "#                 try:\n",
    "#                     props[value].append(key)\n",
    "#                 except:\n",
    "#                     props[value] = [key]\n",
    "    return props"
   ]
  },
  {
   "cell_type": "code",
   "execution_count": 2,
   "metadata": {
    "scrolled": true
   },
   "outputs": [
    {
     "name": "stdout",
     "output_type": "stream",
     "text": [
      "ningaloo  -  1a\n",
      "exmouth  -  1a1\n",
      "tantabiddi  -  1a1\n",
      "coral\\u0020bay  -  1a2\n",
      "christmas  -  ChristmasIsland\n",
      "indonesia  -  Indonesia\n"
     ]
    }
   ],
   "source": [
    "props = loadProperties('submitActionClass.properties')\n",
    "\n",
    "# Thats how props looks now\n",
    "# print('6b : ', props['6b'])\n",
    "# print('1a1 : ', props['1a1'])\n",
    "# print('6a2 : ', props['6a2'])\n",
    "i = 0\n",
    "for key in props:\n",
    "    print(key, \" - \", props[key])\n",
    "    i += 1\n",
    "    if i > 5:\n",
    "        break"
   ]
  },
  {
   "cell_type": "markdown",
   "metadata": {},
   "source": [
    "## Loading WEKA File"
   ]
  },
  {
   "cell_type": "code",
   "execution_count": 3,
   "metadata": {},
   "outputs": [],
   "source": [
    "import csv\n",
    "\n",
    "# Reading WEKA file, returning a dictionary\n",
    "def loadWEKA(filename, limit=0):\n",
    "    attributes = [] # Will store csv columns names here\n",
    "    data = []       # Will store readed file here\n",
    "    \n",
    "    with open(filename, \"r\") as csv_file:\n",
    "        reader = csv.reader(csv_file, delimiter=',', quotechar=\"'\")\n",
    "        \n",
    "        line_num = 0\n",
    "        dataBegan = False\n",
    "        \n",
    "        for row in reader:\n",
    "            # Getting info from @ATTRIBUTE's\n",
    "            if not dataBegan:\n",
    "                if len(row) > 0:\n",
    "                    # Extracting @ATTRIBUTE's\n",
    "                    row_splitted = row[0].split()\n",
    "                    if row_splitted[0] == \"@ATTRIBUTE\":\n",
    "                        attributes.append(row_splitted[1])\n",
    "                    \n",
    "                    # If we found that @data started\n",
    "                    if row[0] == \"@data\":\n",
    "                        dataBegan = True\n",
    "                        continue\n",
    "            \n",
    "            # Reading only payload of the file\n",
    "            if dataBegan:\n",
    "                if len(row) > 1:\n",
    "                    # Appending row into data array\n",
    "                    data.append(row)\n",
    "                    line_num += 1\n",
    "\n",
    "                    # Limiting the number of rows to read\n",
    "                    if line_num > limit and limit > 0:\n",
    "                        break\n",
    "        \n",
    "    return (data, attributes)"
   ]
  },
  {
   "cell_type": "code",
   "execution_count": 4,
   "metadata": {},
   "outputs": [],
   "source": [
    "# Processing WEKA file\n",
    "(data, attr) = loadWEKA('youTubeLocationIDWeka.csv', limit=0)"
   ]
  },
  {
   "cell_type": "markdown",
   "metadata": {},
   "source": [
    "#### Thats how weka file looks like now. Array of Arrays:"
   ]
  },
  {
   "cell_type": "code",
   "execution_count": 5,
   "metadata": {},
   "outputs": [
    {
     "data": {
      "text/plain": [
       "[['1892013124614', '', '', '', '', 'East Contoy Island Mexico', '2c'],\n",
       " ['1892013125327', '', '', '', '', 'East Contoy Island Mexico', '2c']]"
      ]
     },
     "execution_count": 5,
     "metadata": {},
     "output_type": "execute_result"
    }
   ],
   "source": [
    "data[:2]"
   ]
  },
  {
   "cell_type": "markdown",
   "metadata": {},
   "source": [
    "#### Thats the column names loadWEKA() extracted:"
   ]
  },
  {
   "cell_type": "code",
   "execution_count": 6,
   "metadata": {},
   "outputs": [
    {
     "data": {
      "text/plain": [
       "['encounter', 'video', 'title', 'tags', 'description', 'location', 'class']"
      ]
     },
     "execution_count": 6,
     "metadata": {},
     "output_type": "execute_result"
    }
   ],
   "source": [
    "attr"
   ]
  },
  {
   "cell_type": "markdown",
   "metadata": {},
   "source": [
    "### Matching YT video titles with their location\n",
    "Naive way looping through the title and description word by word, trying to match the location:"
   ]
  },
  {
   "cell_type": "code",
   "execution_count": 7,
   "metadata": {},
   "outputs": [],
   "source": [
    "import spacy\n",
    "nlp = spacy.load(\"en_core_web_sm\")\n",
    "\n",
    "# Uses apcy to look up for location in a strings. Returns Array of matches\n",
    "def nlpLocation(string):\n",
    "    spacy_mathc = []\n",
    "    matches = 0\n",
    "    \n",
    "    for ent in nlp(string).ents:\n",
    "        # print(ent.text, ent.start_char, ent.label_) #Print if needed \n",
    "        if ent.label_ == \"GPE\":\n",
    "            spacy_mathc.append(ent.text)\n",
    "            matches += 1\n",
    "\n",
    "    return spacy_mathc"
   ]
  },
  {
   "cell_type": "code",
   "execution_count": 8,
   "metadata": {},
   "outputs": [
    {
     "name": "stdout",
     "output_type": "stream",
     "text": [
      "Processed  2580  videos\n",
      "Matched  1524  locations\n",
      "Identified by spacy  703  locations\n"
     ]
    }
   ],
   "source": [
    "def matchLocation(data, props, description=False, output=False):\n",
    "    entries_processed = 0\n",
    "    matched = 0\n",
    "    spacy_found = 0\n",
    "    \n",
    "    for item in data:\n",
    "        # Working with YT videos only\n",
    "        if item[1]:\n",
    "            naive_match = [] # [[matches_in_title], [mathces_in_descr]]\n",
    "            spacy_match = [] # [[identified_in_title], [identified_in_descr]]\n",
    "            \n",
    "            # Going through title word by word\n",
    "            title_splitted = item[2].split()\n",
    "            title_match = []\n",
    "            for word in title_splitted:\n",
    "                try:\n",
    "                    if (props[word.lower()]):\n",
    "                        title_match.append(word)\n",
    "                except:\n",
    "                    pass\n",
    "                \n",
    "            naive_match.append(title_match)\n",
    "            \n",
    "            # Use spacy if location was not matched in a title\n",
    "            spacy_match.append(nlpLocation(item[2].replace(\"'\",\"\")))\n",
    "            \n",
    "            # Parse description as well\n",
    "            if description:\n",
    "                # Going through description word by word\n",
    "                descr_splitted = item[4].split()\n",
    "                descr_match = []\n",
    "                for word in descr_splitted:\n",
    "                    try:\n",
    "                        if (props[word.lower()]):\n",
    "                            descr_match.append(word)\n",
    "                    except:\n",
    "                        pass\n",
    "                    \n",
    "                naive_match.append(descr_match)\n",
    "                    \n",
    "                # Use spacy if location was not matched in a description\n",
    "                spacy_match.append(nlpLocation(item[4].replace(\"'\",\"\")))\n",
    "    \n",
    "            # Counting statistics\n",
    "            entries_processed += 1\n",
    "            matched += 1 if sum(len(x) for x in naive_match)>0 else 0\n",
    "            spacy_found += 1 if sum(len(x) for x in spacy_match)>0 else 0\n",
    "            \n",
    "            if output:\n",
    "                print(item)\n",
    "                print(\"Naive match\", naive_match)\n",
    "                print(\"Spacy match\", spacy_match)\n",
    "                print()\n",
    "\n",
    "    print(\"Processed \", entries_processed, \" videos\")\n",
    "    print(\"Matched \", matched, \" locations\")\n",
    "    print(\"Identified by spacy \", spacy_found, \" locations\")\n",
    "    \n",
    "matchLocation(data, props, description=True, output=False) # Pass data[:11800] to see a small bunch of results"
   ]
  },
  {
   "cell_type": "code",
   "execution_count": null,
   "metadata": {},
   "outputs": [],
   "source": []
  },
  {
   "cell_type": "code",
   "execution_count": null,
   "metadata": {},
   "outputs": [],
   "source": []
  }
 ],
 "metadata": {
  "kernelspec": {
   "display_name": "Python 3",
   "language": "python",
   "name": "python3"
  },
  "language_info": {
   "codemirror_mode": {
    "name": "ipython",
    "version": 3
   },
   "file_extension": ".py",
   "mimetype": "text/x-python",
   "name": "python",
   "nbconvert_exporter": "python",
   "pygments_lexer": "ipython3",
   "version": "3.7.1"
  }
 },
 "nbformat": 4,
 "nbformat_minor": 2
}
