{
 "cells": [
  {
   "cell_type": "markdown",
   "metadata": {},
   "source": [
    "## Loading .properties file"
   ]
  },
  {
   "cell_type": "code",
   "execution_count": 1,
   "metadata": {},
   "outputs": [],
   "source": [
    "# Reading .properties file, returns a dictionary\n",
    "def loadProperties(filepath, sep='=', com='#'):\n",
    "    props = {}\n",
    "    with open(filepath, \"rt\") as f:\n",
    "        for line in f:\n",
    "            l = line.strip()\n",
    "            if l and not l.startswith(com):\n",
    "                key_value = l.split(sep)\n",
    "                key = key_value[0].strip()\n",
    "                value = key_value[1].strip()\n",
    "                props[key] = value\n",
    "#                 try:\n",
    "#                     props[value].append(key)\n",
    "#                 except:\n",
    "#                     props[value] = [key]\n",
    "    return props"
   ]
  },
  {
   "cell_type": "code",
   "execution_count": 2,
   "metadata": {
    "scrolled": true
   },
   "outputs": [
    {
     "name": "stdout",
     "output_type": "stream",
     "text": [
      "ningaloo  -  1a\n",
      "exmouth  -  1a1\n",
      "tantabiddi  -  1a1\n",
      "coral\\u0020bay  -  1a2\n",
      "christmas  -  ChristmasIsland\n",
      "indonesia  -  Indonesia\n"
     ]
    }
   ],
   "source": [
    "props = loadProperties('submitActionClass.properties')\n",
    "\n",
    "# Thats how props looks now\n",
    "# print('6b : ', props['6b'])\n",
    "# print('1a1 : ', props['1a1'])\n",
    "# print('6a2 : ', props['6a2'])\n",
    "i = 0\n",
    "for key in props:\n",
    "    print(key, \" - \", props[key])\n",
    "    i += 1\n",
    "    if i > 5:\n",
    "        break"
   ]
  },
  {
   "cell_type": "markdown",
   "metadata": {},
   "source": [
    "## Loading WEKA File"
   ]
  },
  {
   "cell_type": "code",
   "execution_count": 3,
   "metadata": {},
   "outputs": [],
   "source": [
    "import csv\n",
    "\n",
    "# Reading WEKA file, returning a dictionary\n",
    "def loadWEKA(filename, limit=0):\n",
    "    attributes = [] # Will store csv columns names here\n",
    "    data = []       # Will store readed file here\n",
    "    \n",
    "    with open(filename, \"r\") as csv_file:\n",
    "        reader = csv.reader(csv_file, delimiter=',', quotechar=\"'\")\n",
    "        \n",
    "        line_num = 0\n",
    "        dataBegan = False\n",
    "        \n",
    "        for row in reader:\n",
    "            # Getting info from @ATTRIBUTE's\n",
    "            if not dataBegan:\n",
    "                if len(row) > 0:\n",
    "                    # Extracting @ATTRIBUTE's\n",
    "                    row_splitted = row[0].split()\n",
    "                    if row_splitted[0] == \"@ATTRIBUTE\":\n",
    "                        attributes.append(row_splitted[1])\n",
    "                    \n",
    "                    # If we found that @data started\n",
    "                    if row[0] == \"@data\":\n",
    "                        dataBegan = True\n",
    "                        continue\n",
    "            \n",
    "            # Reading only payload of the file\n",
    "            if dataBegan:\n",
    "                if len(row) > 1:\n",
    "                    # Appending row into data array\n",
    "                    data.append(row)\n",
    "                    line_num += 1\n",
    "\n",
    "                    # Limiting the number of rows to read\n",
    "                    if line_num > limit and limit > 0:\n",
    "                        break\n",
    "        \n",
    "    return (data, attributes)"
   ]
  },
  {
   "cell_type": "code",
   "execution_count": 4,
   "metadata": {},
   "outputs": [],
   "source": [
    "# Processing WEKA file\n",
    "(data, attr) = loadWEKA('youTubeLocationIDWeka.csv', limit=0)"
   ]
  },
  {
   "cell_type": "markdown",
   "metadata": {},
   "source": [
    "#### Thats how weka file looks like now. Array of Arrays:"
   ]
  },
  {
   "cell_type": "code",
   "execution_count": 5,
   "metadata": {},
   "outputs": [
    {
     "data": {
      "text/plain": [
       "[['1892013124614', '', '', '', '', 'East Contoy Island Mexico', '2c'],\n",
       " ['1892013125327', '', '', '', '', 'East Contoy Island Mexico', '2c']]"
      ]
     },
     "execution_count": 5,
     "metadata": {},
     "output_type": "execute_result"
    }
   ],
   "source": [
    "data[:2]"
   ]
  },
  {
   "cell_type": "markdown",
   "metadata": {},
   "source": [
    "#### Thats the column names loadWEKA() extracted:"
   ]
  },
  {
   "cell_type": "code",
   "execution_count": 6,
   "metadata": {},
   "outputs": [
    {
     "data": {
      "text/plain": [
       "['encounter', 'video', 'title', 'tags', 'description', 'location', 'class']"
      ]
     },
     "execution_count": 6,
     "metadata": {},
     "output_type": "execute_result"
    }
   ],
   "source": [
    "attr"
   ]
  },
  {
   "cell_type": "markdown",
   "metadata": {},
   "source": [
    "### Matching YT video titles with their location\n",
    "Naive way looping through the title and description word by word, trying to match the location:"
   ]
  },
  {
   "cell_type": "code",
   "execution_count": 7,
   "metadata": {},
   "outputs": [],
   "source": [
    "import spacy\n",
    "nlp = spacy.load(\"en_core_web_sm\")\n",
    "\n",
    "# Uses apcy to look up for location in a strings. Returns Array of matches\n",
    "def nlpLocation(string):\n",
    "    spacy_mathc = []\n",
    "    matches = 0\n",
    "    \n",
    "    for ent in nlp(string).ents:\n",
    "        # print(ent.text, ent.start_char, ent.label_) #Print if needed \n",
    "        if ent.label_ == \"GPE\":\n",
    "            spacy_mathc.append(ent.text)\n",
    "            matches += 1\n",
    "\n",
    "    return spacy_mathc"
   ]
  },
  {
   "cell_type": "code",
   "execution_count": 10,
   "metadata": {},
   "outputs": [
    {
     "name": "stdout",
     "output_type": "stream",
     "text": [
      "['01e44824-117c-42c4-90aa-09871b745e16', 'https://www.youtube.com/watch?v=J6JKpXsBWuk', 'Snorkeling in Thudufushi  Whale Shark Manta Sharks Turtles', 'MaldiveThudufushiAri AtollAtollo di AriWhale sharkSqualo balenaSharksSqualiMurenaMorayStingrayTrigoneAquila di mareRays fishPesce chirurgoSurgeonfishLion fishpesce leonepesce scorpioneTartarugheturtlesmantasnorkelinggopro hero 7 blackgopro hero 4 black', 'In this video you can see the Whale shark Sharks Manta Stingray Surgeonfish Lion fish Turtles Rays fish and much moreFilmed with GoPro Hero 7 Black and GoPro Hero 4 BlackIn questo video potrete vedere lo squalo balena diversi squali tartarughe pesci chirurgo mante trigone aquile di mare e molto altroFilmato con GoPro Hero 7 Black e GoPro hero 4 Black', 'Ari Atol Maldive', 'Maldives']\n",
      "Naive match [[], []]\n",
      "Spacy match [['Thudufushi'], ['Sharks Manta Stingray']]\n",
      "\n",
      "['53fd808d-9759-47fc-ac18-63a4e3715afc', 'https://www.youtube.com/watch?v=sziYTviQa74', 'Requin baleine  Whale shark', '', '', 'bali bohol bali philippines', '6a']\n",
      "Naive match [[], []]\n",
      "Spacy match [[], []]\n",
      "\n",
      "['217f0af8-6d18-4a68-8958-0fec32d1f7d0', 'https://www.youtube.com/watch?v=56sHLhz744c', 'Snorkeling with a Whale Shark in Maldives', '', '', 'maldives', 'Maldives']\n",
      "Naive match [['Maldives'], []]\n",
      "Spacy match [[], []]\n",
      "\n",
      "['63a9c0b7-f56c-40da-8b73-5b3a713d5090', 'https://www.youtube.com/watch?v=56sHLhz744c', 'Snorkeling with a Whale Shark in Maldives', '', '', 'maldives', 'Maldives']\n",
      "Naive match [['Maldives'], []]\n",
      "Spacy match [[], []]\n",
      "\n",
      "['f78b8fbe-a7bb-46d4-9680-fff069a7121b', 'https://www.youtube.com/watch?v=etfUQ05Ym1c', 'Eyeballing A Shark', '', '', 'tubbataha', '6a4']\n",
      "Naive match [[], []]\n",
      "Spacy match [[], []]\n",
      "\n",
      "['b8838442-ed77-49c4-bee6-3faf3c1a32ac', 'https://www.youtube.com/watch?v=uXnyueOjK6o', 'Whale shark in Thailand', '', '', 'thailand', 'Thailand']\n",
      "Naive match [['Thailand'], []]\n",
      "Spacy match [['Thailand'], []]\n",
      "\n",
      "['b6071ce2-e9b1-458e-8032-f911003d84ec', 'https://www.youtube.com/watch?v=3nZcTW87sNE', 'Today we meet 2 sharks in Thailand', '', '', 'thailand', 'Thailand']\n",
      "Naive match [['Thailand'], []]\n",
      "Spacy match [['Thailand'], []]\n",
      "\n",
      "['bdaa38fa-0e69-4648-ae2c-c314aed82cbb', 'https://www.youtube.com/watch?v=1sdno6USLb0', 'Oslob  Cebu  The Giant Whale Sharks  Day 2 Birthday Vlog', '', '', 'oslob cebu philippines', '6a2']\n",
      "Naive match [['Oslob', 'Cebu'], []]\n",
      "Spacy match [[], []]\n",
      "\n",
      "['b15987ff-f152-4abf-9788-9ecab2578a68', 'https://www.youtube.com/watch?v=osjSWIr26RE', 'SEEING WHALE SHARKS IN KOH TAO', '', '', '', 'Thailand']\n",
      "Naive match [['KOH'], []]\n",
      "Spacy match [[], []]\n",
      "\n",
      "['5a659e31-052a-42b8-b83a-01c38f9de8a2', 'https://www.youtube.com/watch?v=osjSWIr26RE', 'SEEING WHALE SHARKS IN KOH TAO', '', '', '', 'Thailand']\n",
      "Naive match [['KOH'], []]\n",
      "Spacy match [[], []]\n",
      "\n",
      "['da986af9-fd99-483c-82df-898e5c3be091', 'https://www.youtube.com/watch?v=0eP76yxWPtM', 'on the way to Swimming with Whale shark  waterfall', '', '', '', '6a2']\n",
      "Naive match [[], []]\n",
      "Spacy match [['Swimming'], []]\n",
      "\n",
      "['c111630d-9b70-4e20-a1ef-d752575c6e19', 'https://www.youtube.com/watch?v=x_P-g3LJTl8', 'Whale Shark on Chang Wreck with Pattaya Divers  Diving Thailand', '', '', 'thailand', 'Thailand']\n",
      "Naive match [['Thailand'], []]\n",
      "Spacy match [['Thailand'], []]\n",
      "\n",
      "['bcdba516-70a7-41b7-9dd8-9f26bb764658', 'https://www.youtube.com/watch?v=TJC8MtFjG5s', 'Whale shark  Ocean beach inn hangnaameedhoo', '', '', 'maldives', 'Maldives']\n",
      "Naive match [[], []]\n",
      "Spacy match [[], []]\n",
      "\n",
      "['39dc79b5-eac1-4c67-89f7-43da6dbf11c3', 'https://www.youtube.com/watch?v=YKcz3nwNL0w', 'Spearfishing Texas oil rig May 2018', '', '', 'texas', '2d']\n",
      "Naive match [['Texas'], []]\n",
      "Spacy match [[], []]\n",
      "\n",
      "['3cf6ede2-b9b6-45c5-b02b-d25af4187bdd', 'https://www.youtube.com/watch?v=YKcz3nwNL0w', 'Spearfishing Texas oil rig May 2018', '', '', 'texas', '2d']\n",
      "Naive match [['Texas'], []]\n",
      "Spacy match [[], []]\n",
      "\n",
      "['8869fa5a-cc56-4728-ae84-f8ef1edd2aef', 'https://www.youtube.com/watch?v=NiiJE4aoHv4', 'Whale Shark Watching Part 2 Oslob  Swimming With The Shark  Philippines Vlog15', '', '', 'oslob philippines', '6a2']\n",
      "Naive match [['Oslob', 'Philippines'], []]\n",
      "Spacy match [[], []]\n",
      "\n",
      "['bcbfe61b-609d-4e48-88de-ef7a5c5e5b40', 'https://www.youtube.com/watch?v=irwDi9KBH5c', 'Whale Shark Galapagos 2017', '', '', 'cuba galapagos', '7a']\n",
      "Naive match [['Galapagos'], []]\n",
      "Spacy match [[], []]\n",
      "\n",
      "['0714325b-3049-48ef-9cbc-3a85cae58b5a', 'https://www.youtube.com/watch?v=irwDi9KBH5c', 'Whale Shark Galapagos 2017', '', '', 'cuba galapagos', '7a']\n",
      "Naive match [['Galapagos'], []]\n",
      "Spacy match [[], []]\n",
      "\n",
      "['80eafe95-938e-4e35-8fb1-352618fcafbd', 'https://www.youtube.com/watch?v=N7d3q3pOdQY', 'Close encounter with Whalesharks', '', '', '', '6a2']\n",
      "Naive match [[], []]\n",
      "Spacy match [[], []]\n",
      "\n",
      "['b661a500-8a0e-4926-942a-9e1b75959c90', 'https://www.youtube.com/watch?v=0PtO39oho3A', 'JKHC  Fishing encounter with a whale shark  3618', '', '', '', 'null']\n",
      "Naive match [[], []]\n",
      "Spacy match [[], []]\n",
      "\n",
      "['0048f853-d26b-4661-8be5-403912422486', 'https://www.youtube.com/watch?v=hbK1NvMXxrE', 'WHALESHARK at MoalBoal Oslob at Cebu', '', '', 'oslob moalboal cebu', '6a2']\n",
      "Naive match [['MoalBoal', 'Oslob', 'Cebu'], []]\n",
      "Spacy match [[], []]\n",
      "\n",
      "['9ea05bae-aaca-45aa-900d-58f95ada2399', 'https://www.youtube.com/watch?v=ghd_iQJgWuc', 'Thailand Vlog 3 Koh Tao and Koh Phan Gan', '', '', 'koh thailand', 'Thailand']\n",
      "Naive match [['Thailand', 'Koh', 'Koh'], []]\n",
      "Spacy match [['Thailand'], []]\n",
      "\n",
      "['98d15c04-06d9-4155-bb29-16a1cc656dfd', 'https://www.youtube.com/watch?v=ghd_iQJgWuc', 'Thailand Vlog 3 Koh Tao and Koh Phan Gan', '', '', 'koh thailand', 'Thailand']\n",
      "Naive match [['Thailand', 'Koh', 'Koh'], []]\n",
      "Spacy match [['Thailand'], []]\n",
      "\n",
      "['79c9b65d-102b-4d13-ac5d-1a043ab15ea1', 'https://www.youtube.com/watch?v=56sHLhz744c', 'Snorkeling with a Whale Shark in Maldives', '', '', 'maldives', 'Maldives']\n",
      "Naive match [['Maldives'], []]\n",
      "Spacy match [[], []]\n",
      "\n",
      "['2fc15d33-c2f6-4e71-8dc4-8bfdd7c04f33', 'https://www.youtube.com/watch?v=56sHLhz744c', 'Snorkeling with a Whale Shark in Maldives', '', '', 'maldives', 'Maldives']\n",
      "Naive match [['Maldives'], []]\n",
      "Spacy match [[], []]\n",
      "\n",
      "['ed7e02b6-757b-476a-a3ae-6889733da14a', 'https://www.youtube.com/watch?v=LDMu_pALFZo', 'PHILIPPINES travel series  swimming with WHALE SHARKS in Oslob  HONEST opinion', '', '', 'oslob philippines', '6a2']\n",
      "Naive match [['PHILIPPINES', 'Oslob'], []]\n",
      "Spacy match [[], []]\n",
      "\n",
      "['5c7d33d8-50e5-4c24-abea-bfddebe01429', 'https://www.youtube.com/watch?v=n4Ch3zV32ZI', 'Snorkeling with the Whale Shark off Isla Mujeres', '', '', 'mujeres', '2c']\n",
      "Naive match [['Mujeres'], []]\n",
      "Spacy match [[], []]\n",
      "\n",
      "['24c7fde1-e0f0-4bf2-bd50-5c540ae5c8f5', 'https://www.youtube.com/watch?v=Y0VBlxscyfM', 'KKday Cebu and Mactan Oslob Whale Shark Watching and Tumalog Falls', '', '', 'oslob cebu', '6a2']\n",
      "Naive match [['Cebu', 'Oslob'], []]\n",
      "Spacy match [[], []]\n",
      "\n",
      "['19a6ff77-21f5-4e8c-a04a-368591ba2ec0', 'https://www.youtube.com/watch?v=Y0VBlxscyfM', 'KKday Cebu and Mactan Oslob Whale Shark Watching and Tumalog Falls', '', '', 'oslob cebu', '6a2']\n",
      "Naive match [['Cebu', 'Oslob'], []]\n",
      "Spacy match [[], []]\n",
      "\n",
      "['42765e7f-2b46-4d64-9629-be4890c5acb0', 'https://www.youtube.com/watch?v=RPQx_UgqDVY', 'Part II of Whale Shark so big and close it wont fit in the frame 26 miles NE of Isla de Mujeres', '', '', 'mujeres', '2c']\n",
      "Naive match [['Mujeres'], []]\n",
      "Spacy match [[], []]\n",
      "\n",
      "['96b5a85f-d948-4dc0-a09c-bddeef7e8e40', 'https://www.youtube.com/watch?v=jVQTfUUeolQ', 'in   swim with whalesharks', 'cancunwhalesharkswim with whaleshark', '', 'cancun', '2c']\n",
      "Naive match [[], []]\n",
      "Spacy match [[], []]\n",
      "\n",
      "['751401eb-e0d3-4106-9870-636befcca0fe', 'https://www.youtube.com/watch?v=jVQTfUUeolQ', 'in   swim with whalesharks', 'cancunwhalesharkswim with whaleshark', '', 'cancun', '2c']\n",
      "Naive match [[], []]\n",
      "Spacy match [[], []]\n",
      "\n",
      "['b415cb75-21b6-4bc6-ab27-a9c43b3f5a01', 'https://www.youtube.com/watch?v=d_HEWIVmvBw', 'my underwater', '', '', '', 'Thailand']\n",
      "Naive match [[], []]\n",
      "Spacy match [[], []]\n",
      "\n",
      "['cabd76a5-bf7e-4ae3-8e72-53a12b414126', 'https://www.youtube.com/watch?v=LyDKCAwob3M', 'Diving in Thailand  Koh Samui 2018', '', '', 'sail rock koh thailand', 'Thailand']\n",
      "Naive match [['Thailand', 'Koh'], []]\n",
      "Spacy match [['Thailand'], []]\n",
      "\n",
      "Processed  34  videos\n",
      "Naively matched  24  locations\n",
      "Identified by spacy  8  locations\n"
     ]
    }
   ],
   "source": [
    "def matchLocation(data, props, description=False, output=False):\n",
    "    entries_processed = 0\n",
    "    matched = 0\n",
    "    spacy_found = 0\n",
    "    \n",
    "    for item in data:\n",
    "        # Working with YT videos only\n",
    "        if item[1]:\n",
    "            naive_match = [] # [[matches_in_title], [mathces_in_descr]]\n",
    "            spacy_match = [] # [[identified_in_title], [identified_in_descr]]\n",
    "            \n",
    "            # Going through title word by word\n",
    "            title_splitted = item[2].split()\n",
    "            title_match = []\n",
    "            for word in title_splitted:\n",
    "                try:\n",
    "                    if (props[word.lower()]):\n",
    "                        title_match.append(word)\n",
    "                except:\n",
    "                    pass\n",
    "                \n",
    "            naive_match.append(title_match)\n",
    "            \n",
    "            # Use spacy if location was not matched in a title\n",
    "            spacy_match.append(nlpLocation(item[2].replace(\"'\",\"\")))\n",
    "            \n",
    "            # Parse description as well\n",
    "            if description:\n",
    "                # Going through description word by word\n",
    "                descr_splitted = item[4].split()\n",
    "                descr_match = []\n",
    "                for word in descr_splitted:\n",
    "                    try:\n",
    "                        if (props[word.lower()]):\n",
    "                            descr_match.append(word)\n",
    "                    except:\n",
    "                        pass\n",
    "                    \n",
    "                naive_match.append(descr_match)\n",
    "                    \n",
    "                # Use spacy if location was not matched in a description\n",
    "                spacy_match.append(nlpLocation(item[4].replace(\"'\",\"\")))\n",
    "    \n",
    "            # Counting statistics\n",
    "            entries_processed += 1\n",
    "            matched += 1 if sum(len(x) for x in naive_match)>0 else 0\n",
    "            spacy_found += 1 if sum(len(x) for x in spacy_match)>0 else 0\n",
    "            \n",
    "            if output:\n",
    "                print(item)\n",
    "                print(\"Naive match\", naive_match)\n",
    "                print(\"Spacy match\", spacy_match)\n",
    "                print()\n",
    "\n",
    "    print(\"Processed \", entries_processed, \" videos\")\n",
    "    print(\"Naively matched \", matched, \" locations\")\n",
    "    print(\"Identified by spacy \", spacy_found, \" locations\")\n",
    "    \n",
    "matchLocation(data[:11800], props, description=True, output=True) # Pass data[:11800] to see a small bunch of results"
   ]
  },
  {
   "cell_type": "code",
   "execution_count": null,
   "metadata": {},
   "outputs": [],
   "source": []
  },
  {
   "cell_type": "code",
   "execution_count": null,
   "metadata": {},
   "outputs": [],
   "source": []
  }
 ],
 "metadata": {
  "kernelspec": {
   "display_name": "Python 3",
   "language": "python",
   "name": "python3"
  },
  "language_info": {
   "codemirror_mode": {
    "name": "ipython",
    "version": 3
   },
   "file_extension": ".py",
   "mimetype": "text/x-python",
   "name": "python",
   "nbconvert_exporter": "python",
   "pygments_lexer": "ipython3",
   "version": "3.7.1"
  }
 },
 "nbformat": 4,
 "nbformat_minor": 2
}
