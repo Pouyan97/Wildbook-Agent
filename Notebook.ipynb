{
 "cells": [
  {
   "cell_type": "markdown",
   "metadata": {},
   "source": [
    "## Loading .properties file"
   ]
  },
  {
   "cell_type": "code",
   "execution_count": 32,
   "metadata": {},
   "outputs": [],
   "source": [
    "# Reading .properties file, returns a dictionary\n",
    "def loadProperties(filepath, sep='=', com='#'):\n",
    "    props = {}\n",
    "    with open(filepath, \"rt\") as f:\n",
    "        for line in f:\n",
    "            l = line.strip()\n",
    "            if l and not l.startswith(com):\n",
    "                key_value = l.split(sep)\n",
    "                key = key_value[0].strip()\n",
    "                value = key_value[1].strip()\n",
    "                props[key] = value\n",
    "#                 try:\n",
    "#                     props[value].append(key)\n",
    "#                 except:\n",
    "#                     props[value] = [key]\n",
    "    return props"
   ]
  },
  {
   "cell_type": "code",
   "execution_count": 34,
   "metadata": {
    "scrolled": true
   },
   "outputs": [
    {
     "name": "stdout",
     "output_type": "stream",
     "text": [
      "ningaloo  -  1a\n",
      "exmouth  -  1a1\n",
      "tantabiddi  -  1a1\n",
      "coral\\u0020bay  -  1a2\n",
      "christmas  -  ChristmasIsland\n",
      "indonesia  -  Indonesia\n"
     ]
    }
   ],
   "source": [
    "props = loadProperties('submitActionClass.properties')\n",
    "\n",
    "# Thats how props looks now\n",
    "# print('6b : ', props['6b'])\n",
    "# print('1a1 : ', props['1a1'])\n",
    "# print('6a2 : ', props['6a2'])\n",
    "i = 0\n",
    "for key in props:\n",
    "    print(key, \" - \", props[key])\n",
    "    i += 1\n",
    "    if i > 5:\n",
    "        break"
   ]
  },
  {
   "cell_type": "markdown",
   "metadata": {},
   "source": [
    "## Loading WEKA File"
   ]
  },
  {
   "cell_type": "code",
   "execution_count": null,
   "metadata": {},
   "outputs": [],
   "source": []
  },
  {
   "cell_type": "code",
   "execution_count": 15,
   "metadata": {},
   "outputs": [],
   "source": [
    "import csv\n",
    "\n",
    "# Reading WEKA file, returning a dictionary\n",
    "def loadWEKA(filename, limit=0):\n",
    "    attributes = [] # Will store csv columns names here\n",
    "    data = []       # Will store readed file here\n",
    "    \n",
    "    with open(filename, \"r\") as csv_file:\n",
    "        reader = csv.reader(csv_file, delimiter=',', quotechar=\"'\")\n",
    "        \n",
    "        line_num = 0\n",
    "        dataBegan = False\n",
    "        \n",
    "        for row in reader:\n",
    "            # Getting info from @ATTRIBUTE's\n",
    "            if not dataBegan:\n",
    "                if len(row) > 0:\n",
    "                    # Extracting @ATTRIBUTE's\n",
    "                    row_splitted = row[0].split()\n",
    "                    if row_splitted[0] == \"@ATTRIBUTE\":\n",
    "                        attributes.append(row_splitted[1])\n",
    "                    \n",
    "                    # If we found that @data started\n",
    "                    if row[0] == \"@data\":\n",
    "                        dataBegan = True\n",
    "                        continue\n",
    "            \n",
    "            # Reading only payload of the file\n",
    "            if dataBegan:\n",
    "                if len(row) > 1:\n",
    "                    # Appending row into data array\n",
    "                    data.append(row)\n",
    "                    line_num += 1\n",
    "\n",
    "                    # Limiting the number of rows to read\n",
    "                    if line_num > limit and limit > 0:\n",
    "                        break\n",
    "        \n",
    "    return (data, attributes)"
   ]
  },
  {
   "cell_type": "code",
   "execution_count": 16,
   "metadata": {},
   "outputs": [],
   "source": [
    "# Processing WEKA file\n",
    "(data, attr) = loadWEKA('youTubeLocationIDWeka.csv', limit=0)"
   ]
  },
  {
   "cell_type": "markdown",
   "metadata": {},
   "source": [
    "#### Thats how weka file looks like now. Array of Arrays:"
   ]
  },
  {
   "cell_type": "code",
   "execution_count": 18,
   "metadata": {},
   "outputs": [
    {
     "data": {
      "text/plain": [
       "[['1892013124614', '', '', '', '', 'East Contoy Island Mexico', '2c'],\n",
       " ['1892013125327', '', '', '', '', 'East Contoy Island Mexico', '2c']]"
      ]
     },
     "execution_count": 18,
     "metadata": {},
     "output_type": "execute_result"
    }
   ],
   "source": [
    "data[:2]"
   ]
  },
  {
   "cell_type": "markdown",
   "metadata": {},
   "source": [
    "#### Thats the column names loadWEKA() extracted:"
   ]
  },
  {
   "cell_type": "code",
   "execution_count": 10,
   "metadata": {},
   "outputs": [
    {
     "data": {
      "text/plain": [
       "['encounter', 'video', 'title', 'tags', 'description', 'location', 'class']"
      ]
     },
     "execution_count": 10,
     "metadata": {},
     "output_type": "execute_result"
    }
   ],
   "source": [
    "attr"
   ]
  },
  {
   "cell_type": "markdown",
   "metadata": {},
   "source": [
    "### Matching YT video titles with their location\n",
    "Naive way looping through the title and description word by word, trying to match the location:"
   ]
  },
  {
   "cell_type": "code",
   "execution_count": 67,
   "metadata": {},
   "outputs": [
    {
     "name": "stdout",
     "output_type": "stream",
     "text": [
      "Processed  2580  videos\n",
      "Identified  1524  locations\n"
     ]
    }
   ],
   "source": [
    "def matchLocation(data, props, description=False, output=False):\n",
    "    count = 0\n",
    "    identified = 0\n",
    "    \n",
    "    for item in data:\n",
    "        # Working with YT videos only\n",
    "        if item[1]:\n",
    "            found = False\n",
    "            \n",
    "            # Going through title word by word\n",
    "            title_splitted = item[2].split()\n",
    "            for word in title_splitted:\n",
    "                try:\n",
    "                    if (props[word.lower()]):\n",
    "                        if output:\n",
    "                            print(\"Found\", word, \"in title\", item[2], \", id\", item[0])\n",
    "                        identified += 1\n",
    "                        found = True\n",
    "                        break # Breaking the loop, going to the next video\n",
    "                except:\n",
    "                    pass\n",
    "            \n",
    "            if not found and description:\n",
    "                # Going through description word by word\n",
    "                descr_splitted = item[4].split()\n",
    "                for word in descr_splitted:\n",
    "                    try:\n",
    "                        if (props[word.lower()]):\n",
    "                            if output:\n",
    "                                print(\"Found\", word, \"in description\", item[4], \", id\", item[0])\n",
    "                            identified += 1\n",
    "                            break # Breaking the loop, going to the next video\n",
    "                    except:\n",
    "                        pass\n",
    "            \n",
    "            count += 1\n",
    "\n",
    "    print(\"Processed \", count, \" videos\")\n",
    "    print(\"Identified \", identified, \" locations\")\n",
    "    \n",
    "matchLocation(data, props, description=True, output=False)"
   ]
  },
  {
   "cell_type": "code",
   "execution_count": null,
   "metadata": {},
   "outputs": [],
   "source": []
  },
  {
   "cell_type": "code",
   "execution_count": null,
   "metadata": {},
   "outputs": [],
   "source": []
  }
 ],
 "metadata": {
  "kernelspec": {
   "display_name": "Python 3",
   "language": "python",
   "name": "python3"
  },
  "language_info": {
   "codemirror_mode": {
    "name": "ipython",
    "version": 3
   },
   "file_extension": ".py",
   "mimetype": "text/x-python",
   "name": "python",
   "nbconvert_exporter": "python",
   "pygments_lexer": "ipython3",
   "version": "3.7.1"
  }
 },
 "nbformat": 4,
 "nbformat_minor": 2
}
