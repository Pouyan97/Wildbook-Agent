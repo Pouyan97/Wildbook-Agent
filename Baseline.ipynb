{
 "cells": [
  {
   "cell_type": "code",
   "execution_count": 4,
   "metadata": {},
   "outputs": [],
   "source": [
    "from misc import loadProperties, loadWEKA\n",
    "from customPipeline import Pipe\n",
    "\n",
    "props = loadProperties('submitActionClass.properties')\n",
    "(data, attr) = loadWEKA('youTubeLocationIDWeka.csv', limit=0)\n",
    "\n",
    "# Array of locations to search for\n",
    "locations = [x for x in props]\n",
    "revercedProps = {v: k for k, v in props.items()}"
   ]
  },
  {
   "cell_type": "code",
   "execution_count": null,
   "metadata": {},
   "outputs": [],
   "source": []
  },
  {
   "cell_type": "code",
   "execution_count": 65,
   "metadata": {},
   "outputs": [],
   "source": [
    "# Returns [videoId, [Title,Descr,Tags]]\n",
    "def preprocessWekaData(item_original):\n",
    "    item = {}\n",
    "    for i in range(len(attr)):\n",
    "        item[attr[i]] = item_original[i]\n",
    "    return item\n",
    "\n",
    "def onlyYouTubeVideos(item_original):\n",
    "    if len(item_original['video']) > 0:\n",
    "        return True\n",
    "    return False\n",
    "\n",
    "def keywordMatchLocation(item_original):\n",
    "    item = item_original.copy()\n",
    "    item['locationmatch'] = ''\n",
    "    item['classmatch'] = ''\n",
    "    \n",
    "    for loc in locations:\n",
    "        for key in ['title', 'description', 'tags']:\n",
    "            foundIndex = item[key].lower().find(loc)\n",
    "            if foundIndex > -1:\n",
    "                if foundIndex > 0:\n",
    "                    # Avoid \"Scuba\"\n",
    "                    if loc == \"cuba\" and item[key][foundIndex-1].lower() == \"s\":\n",
    "                        continue\n",
    "                item['locationmatch'] += '{} '.format(loc)\n",
    "                \n",
    "                # Class Match\n",
    "                if item['classmatch']:                    \n",
    "                    # Prefer code over name\n",
    "                    if not item['classmatch'][0].isdigit() and props[loc][0].isdigit():\n",
    "                        item['classmatch'] = props[loc]\n",
    "                        \n",
    "                    # Prefer bigger last digit/letter in code\n",
    "                    if len(item['classmatch']) == len(props[loc]):\n",
    "                        # Digit\n",
    "                        if item['classmatch'][len(item['classmatch'])-1].isdigit() and props[loc][len(props[loc])-1].isdigit():\n",
    "                            if props[loc][len(props[loc])-1] > item['classmatch'][len(item['classmatch'])-1]:\n",
    "                                item['classmatch'] = props[loc]\n",
    "                        # Letter     \n",
    "#                         if item['classmatch'][len(item['classmatch'])-1].isalpha() and props[loc][len(props[loc])-1].isalpha():\n",
    "#                             if props[loc][len(props[loc])-1] > item['classmatch'][len(item['classmatch'])-1]:\n",
    "#                                 item['classmatch'] = props[loc]\n",
    "\n",
    "                    # Counting class \"value\" by sum of letter charcodes\n",
    "                    else:\n",
    "                        val1 = 0\n",
    "                        for l in item['classmatch']:\n",
    "                            val1 += ord(l)\n",
    "                        val2 = 0\n",
    "                        for l in props[loc]:\n",
    "                            val2 += ord(l)\n",
    "                        if val2 > val1:\n",
    "                            item['classmatch'] = props[loc]\n",
    "                \n",
    "                # If no class were identified before\n",
    "                else:\n",
    "                    item['classmatch'] = props[loc]\n",
    "    \n",
    "#     # Appending general location\n",
    "#     if len(item['classmatch']):\n",
    "#         # If last character is digit\n",
    "#         if item['classmatch'][len(item['classmatch'])-1].isdigit():\n",
    "#             generalID = item['classmatch'][:len(item['classmatch'])-1]\n",
    "#             if revercedProps[generalID]:\n",
    "#                 generalLoc = revercedProps[generalID]\n",
    "#                 # Removing same item if it is already exists\n",
    "#                 generalLocMatch = item['locationmatch'].find(generalLoc)\n",
    "#                 if generalLocMatch > -1:\n",
    "#                     item['locationmatch'] = item['locationmatch'].replace(generalLoc, '')\n",
    "#                 item['locationmatch'] += revercedProps[generalID]\n",
    "    # If no match\n",
    "#     else:\n",
    "#         print(item)\n",
    "    \n",
    "    # Removing duplicated\n",
    "    ulist = []\n",
    "    [ulist.append(\"{} \".format(x)) for x in item['locationmatch'].split() if \"{} \".format(x) not in ulist]\n",
    "    item['locationmatch'] = ''.join(ulist)\n",
    "    \n",
    "    item['locationmatch'] = item['locationmatch'].strip()\n",
    "                \n",
    "#     if(item['locationmatch'].find(' ') > -1):\n",
    "#         print(item, '\\n')\n",
    "        \n",
    "    return item\n",
    "\n",
    "def onlyMatchedVideos(item_original):\n",
    "    if len(item_original['classmatch']) > 0:\n",
    "        return True\n",
    "    return False\n",
    "\n"
   ]
  },
  {
   "cell_type": "markdown",
   "metadata": {},
   "source": [
    "### Jaccard Similarity doesnt really show us the right stats.\n",
    "\n",
    "Sometimes we match more location patterns than found in WEKA file, therefore Jaccards Similarity goes down.\n",
    "\n",
    "Also, in WEKA some locations have duplicate words while our match removes duplicates."
   ]
  },
  {
   "cell_type": "code",
   "execution_count": 66,
   "metadata": {},
   "outputs": [],
   "source": [
    "def doStats(data):\n",
    "    classmatch = 0\n",
    "    totalIntersection = 0\n",
    "    totalIntersectionPercent = 0\n",
    "    totalJaccardSimilarity = 0\n",
    "\n",
    "    for item in res:\n",
    "        item['stats'] = {}\n",
    "        if item['classmatch'] == item['class'] or item['class'] == 'null':\n",
    "            item['stats']['classmatch'] = True\n",
    "            classmatch += 1\n",
    "\n",
    "        Lours = item['locationmatch'].lower().split()\n",
    "        Lweka = item['location'].lower().split()\n",
    "\n",
    "        intersection = 0\n",
    "        for word in Lours:\n",
    "            try:\n",
    "                Lweka.index(word)\n",
    "                intersection += 1\n",
    "            except:\n",
    "                if intersection >= len(Lweka):\n",
    "                    intersection += 1\n",
    "\n",
    "        item['stats']['intersection'] = intersection\n",
    "        item['stats']['union'] = len(set(Lours+Lweka))\n",
    "        item['stats']['intersectionPercent'] = intersection/len(Lweka) if len(Lweka)>0 else 2\n",
    "        item['stats']['jaccardSimilarity'] = item['stats']['intersection']/item['stats']['union'] if item['stats']['union']>0 else 1\n",
    "\n",
    "        totalIntersection += item['stats']['intersection']\n",
    "        totalIntersectionPercent += item['stats']['intersectionPercent']\n",
    "        totalJaccardSimilarity += item['stats']['jaccardSimilarity']\n",
    "\n",
    "    #     if item['stats']['jaccardSimilarity'] < 1:\n",
    "    #         print(item, '\\n')\n",
    "\n",
    "    totalIntersectionPercent /= len(res)\n",
    "    totalJaccardSimilarity /= len(res)\n",
    "\n",
    "    print(\"Exact location code match {} out of {} items.\".format(classmatch, len(res)))\n",
    "    print(\"totalIntersection\", totalIntersection)\n",
    "    print(\"totalIntersectionPercent\", totalIntersectionPercent)\n",
    "    print(\"totalJaccardSimilarity\", totalJaccardSimilarity)"
   ]
  },
  {
   "cell_type": "code",
   "execution_count": 67,
   "metadata": {},
   "outputs": [
    {
     "name": "stderr",
     "output_type": "stream",
     "text": [
      "preprocessWekaData: 100%|██████████| 38780/38780 [00:00<00:00, 292385.82it/s]\n",
      "onlyYouTubeVideos: 100%|██████████| 38780/38780 [00:00<00:00, 1504616.93it/s]\n",
      "keywordMatchLocation: 100%|██████████| 2580/2580 [00:00<00:00, 6591.15it/s]\n",
      "onlyMatchedVideos: 100%|██████████| 2580/2580 [00:00<00:00, 1320476.43it/s]"
     ]
    },
    {
     "name": "stdout",
     "output_type": "stream",
     "text": [
      "Exact location code match 1722 out of 1795 items.\n",
      "totalIntersection 2986\n",
      "totalIntersectionPercent 1.0059543706061809\n",
      "totalJaccardSimilarity 0.8830202944687631\n"
     ]
    },
    {
     "name": "stderr",
     "output_type": "stream",
     "text": [
      "\n"
     ]
    }
   ],
   "source": [
    "pl = Pipe()\n",
    "pl.addItemPipe(preprocessWekaData)\n",
    "pl.addDataPipe(onlyYouTubeVideos)\n",
    "pl.addItemPipe(keywordMatchLocation)\n",
    "pl.addDataPipe(onlyMatchedVideos)\n",
    "res = pl(data)\n",
    "\n",
    "doStats(res)"
   ]
  },
  {
   "cell_type": "code",
   "execution_count": 8,
   "metadata": {},
   "outputs": [],
   "source": [
    "# for item in res:\n",
    "#     if item['class'] != item['classmatch']:\n",
    "#         print(item)\n",
    "#         print(\"location\", item['location'])\n",
    "#         print(\"locationmatch\", item['locationmatch'])\n",
    "#         print('class', item['class'])\n",
    "#         print('classmatch', item['classmatch'])\n",
    "#         print()"
   ]
  },
  {
   "cell_type": "code",
   "execution_count": null,
   "metadata": {},
   "outputs": [],
   "source": []
  },
  {
   "cell_type": "code",
   "execution_count": null,
   "metadata": {},
   "outputs": [],
   "source": []
  },
  {
   "cell_type": "code",
   "execution_count": null,
   "metadata": {},
   "outputs": [],
   "source": []
  },
  {
   "cell_type": "code",
   "execution_count": null,
   "metadata": {},
   "outputs": [],
   "source": []
  },
  {
   "cell_type": "code",
   "execution_count": null,
   "metadata": {},
   "outputs": [],
   "source": []
  },
  {
   "cell_type": "code",
   "execution_count": 124,
   "metadata": {},
   "outputs": [
    {
     "name": "stdout",
     "output_type": "stream",
     "text": [
      "805\n",
      "817\n"
     ]
    }
   ],
   "source": [
    "val = 0\n",
    "for l in \"Thailand\":\n",
    "    val += ord(l)\n",
    "print(val)\n",
    "\n",
    "val = 0\n",
    "for l in \"Malaysia\":\n",
    "    val += ord(l)\n",
    "print(val)"
   ]
  },
  {
   "cell_type": "code",
   "execution_count": null,
   "metadata": {},
   "outputs": [],
   "source": []
  }
 ],
 "metadata": {
  "kernelspec": {
   "display_name": "Python 3",
   "language": "python",
   "name": "python3"
  },
  "language_info": {
   "codemirror_mode": {
    "name": "ipython",
    "version": 3
   },
   "file_extension": ".py",
   "mimetype": "text/x-python",
   "name": "python",
   "nbconvert_exporter": "python",
   "pygments_lexer": "ipython3",
   "version": "3.7.3"
  },
  "varInspector": {
   "cols": {
    "lenName": 16,
    "lenType": 16,
    "lenVar": 40
   },
   "kernels_config": {
    "python": {
     "delete_cmd_postfix": "",
     "delete_cmd_prefix": "del ",
     "library": "var_list.py",
     "varRefreshCmd": "print(var_dic_list())"
    },
    "r": {
     "delete_cmd_postfix": ") ",
     "delete_cmd_prefix": "rm(",
     "library": "var_list.r",
     "varRefreshCmd": "cat(var_dic_list()) "
    }
   },
   "types_to_exclude": [
    "module",
    "function",
    "builtin_function_or_method",
    "instance",
    "_Feature"
   ],
   "window_display": false
  }
 },
 "nbformat": 4,
 "nbformat_minor": 2
}
