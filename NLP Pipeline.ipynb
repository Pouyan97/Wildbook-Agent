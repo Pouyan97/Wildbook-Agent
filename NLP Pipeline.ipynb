{
 "cells": [
  {
   "cell_type": "code",
   "execution_count": 1,
   "metadata": {},
   "outputs": [],
   "source": [
    "from misc import loadProperties, loadWEKA\n",
    "\n",
    "props = loadProperties('submitActionClass.properties')\n",
    "(data, attr) = loadWEKA('youTubeLocationIDWeka.csv', limit=0)"
   ]
  },
  {
   "cell_type": "markdown",
   "metadata": {},
   "source": [
    "#### Adjusting spacy's pipeline"
   ]
  },
  {
   "cell_type": "code",
   "execution_count": 2,
   "metadata": {},
   "outputs": [],
   "source": [
    "import spacy\n",
    "from spacy.tokens import Span\n",
    "from spacy.matcher import PhraseMatcher\n",
    "\n",
    "nlp = spacy.load(\"en_core_web_sm\")\n",
    "\n",
    "locations = [x for x in props] # Array of known locations from .properties\n",
    "location_patterns = list(nlp.pipe(locations))\n",
    "\n",
    "matcher = PhraseMatcher(nlp.vocab, attr='LOWER')\n",
    "matcher.add(\"LOCATION\", None, *location_patterns)\n",
    "\n",
    "# Define the custom component\n",
    "def location_component(doc):\n",
    "    # Apply the matcher to the doc\n",
    "    matches = matcher(doc)\n",
    "    # Create a Span for each match and assign the label 'LOCATION'\n",
    "    # Overwrite the doc.ents with the matched spans\n",
    "    doc.ents = [Span(doc, start, end, label=\"LOCATION\") for match_id, start, end in matches]\n",
    "    return doc\n",
    "\n",
    "# Add the component to the pipeline after the 'ner' component\n",
    "nlp.add_pipe(location_component, before='ner')"
   ]
  },
  {
   "cell_type": "markdown",
   "metadata": {},
   "source": [
    "#### Defining functions for pipeline"
   ]
  },
  {
   "cell_type": "code",
   "execution_count": 3,
   "metadata": {},
   "outputs": [],
   "source": [
    "# Returns [videoId, [Title,Descr,Tags]]\n",
    "def preprocessWekaData(item_original):\n",
    "    item = [ item_original[0],[] ]\n",
    "    \n",
    "    # Going through title,descr,tags\n",
    "    for i in range(2,5):\n",
    "        if item_original[i]:\n",
    "            item[1].append(item_original[i])\n",
    "            \n",
    "    return item"
   ]
  },
  {
   "cell_type": "code",
   "execution_count": 4,
   "metadata": {},
   "outputs": [],
   "source": [
    "def onlyItemsWithPayload(item_original):\n",
    "    if len(item_original[1]) > 0:\n",
    "        return True\n",
    "    return False"
   ]
  },
  {
   "cell_type": "code",
   "execution_count": 5,
   "metadata": {},
   "outputs": [],
   "source": [
    "# Uses spacy to look up for location in a strings. Returns Array of matches\n",
    "def nlpLocation(string):\n",
    "    spacy_mathc = []\n",
    "    for ent in nlp(string).ents:\n",
    "        if ent.label_ == \"GPE\" or ent.label_ == \"LOCATION\":\n",
    "            spacy_mathc.append(ent.text.lower())\n",
    "    return spacy_mathc\n",
    "\n",
    "def matchLocationV3(item_original):\n",
    "    item = item_original.copy()\n",
    "    locations = []\n",
    "    \n",
    "    # Going through potential data to analyze\n",
    "    for text in item[1]:\n",
    "        locations += nlpLocation(text.replace(\"'\",\"\")) # Title\n",
    "      \n",
    "    item.append(locations)\n",
    "    return item\n",
    "\n",
    "# matchLocationV3(data2[405])"
   ]
  },
  {
   "cell_type": "code",
   "execution_count": 6,
   "metadata": {},
   "outputs": [],
   "source": [
    "def removeDuplicateLocation(item_original):\n",
    "    item = item_original.copy()\n",
    "    item[2] = list(set(item[2]))\n",
    "    return item"
   ]
  },
  {
   "cell_type": "code",
   "execution_count": 7,
   "metadata": {},
   "outputs": [],
   "source": [
    "def onlyItemsWithMatchedLocation(item_original):\n",
    "    if len(item_original[2]) > 0:\n",
    "        return True\n",
    "    return False"
   ]
  },
  {
   "cell_type": "code",
   "execution_count": 8,
   "metadata": {},
   "outputs": [],
   "source": [
    "def printItem(item_original):\n",
    "    print(item_original)\n",
    "    print()\n",
    "    return item_original"
   ]
  },
  {
   "cell_type": "code",
   "execution_count": 9,
   "metadata": {},
   "outputs": [],
   "source": [
    "def countStats(stats, item):\n",
    "    stats[\"total\"] += 1\n",
    "    if len(item[1]) > 0:\n",
    "        stats[\"hasDataToAnalyze\"] += 1\n",
    "    if len(item[2]) > 0:\n",
    "        stats[\"identified\"] += 1\n",
    "    return stats\n",
    "def printStats(stats):\n",
    "    print(stats[\"total\"], \"items were processed in total.\")\n",
    "    print(stats[\"hasDataToAnalyze\"], \"of them had title,description or tags to analyze.\")\n",
    "    print(stats[\"identified\"], \"out of\", stats[\"hasDataToAnalyze\"], \"were matched with potential location\")"
   ]
  },
  {
   "cell_type": "markdown",
   "metadata": {},
   "source": [
    "#### Initializing and running the pipeline"
   ]
  },
  {
   "cell_type": "code",
   "execution_count": 10,
   "metadata": {},
   "outputs": [
    {
     "name": "stderr",
     "output_type": "stream",
     "text": [
      "preprocessWekaData: 100%|██████████| 1800/1800 [00:00<00:00, 654962.02it/s]\n",
      "onlyItemsWithPayload: 100%|██████████| 1800/1800 [00:00<00:00, 948818.30it/s]\n",
      "matchLocationV3: 100%|██████████| 394/394 [00:03<00:00, 122.64it/s]\n",
      "removeDuplicateLocation: 100%|██████████| 394/394 [00:00<00:00, 461865.78it/s]\n",
      "countStats: 100%|██████████| 394/394 [00:00<00:00, 509733.43it/s]\n"
     ]
    },
    {
     "name": "stdout",
     "output_type": "stream",
     "text": [
      "394 items were processed in total.\n",
      "394 of them had title,description or tags to analyze.\n",
      "19 out of 394 were matched with potential location\n"
     ]
    },
    {
     "name": "stderr",
     "output_type": "stream",
     "text": [
      "onlyItemsWithMatchedLocation: 100%|██████████| 394/394 [00:00<00:00, 409961.74it/s]\n"
     ]
    }
   ],
   "source": [
    "from customPipeline import Pipe\n",
    "data = data[:1800]\n",
    "\n",
    "pl = Pipe()\n",
    "pl.addItemPipe(preprocessWekaData)\n",
    "pl.addDataPipe(onlyItemsWithPayload)\n",
    "pl.addItemPipe(matchLocationV3)\n",
    "pl.addItemPipe(removeDuplicateLocation)\n",
    "pl.addStatPipe(countStats, printStats, {\"total\":0, \"hasDataToAnalyze\":0, \"identified\":0})\n",
    "pl.addDataPipe(onlyItemsWithMatchedLocation)\n",
    "# pl.addItemPipe(printItem)\n",
    "result = pl(data)"
   ]
  },
  {
   "cell_type": "code",
   "execution_count": 11,
   "metadata": {},
   "outputs": [
    {
     "data": {
      "text/plain": [
       "[['19112010171749',\n",
       "  ['Was on shore and saw a huge splashsaw a giant grey creature moving at surface like a powerful submarineit was fairly far outthen saw a huge flopping dorsal fin then a smaller second fin at first I thought 2 dolphins but it was an enormous fish swimming in the seathe largest I have ever seen in my lifeno one believed me but about 6 weeks laterthis weeka fisherman reported being terrified by a giant 40 sea monsterwith a huge open mouthcoming straight at his boat3 miles of the SW of Barbadoswhich is about 5 or 6 miles downwind from my beach His deion matched what I knew I sawhe said he tried clubbing itplease look into this quickly as it would be terrible for a creature like this to sufferthey are not known to be around Barbadosin recent times but I see Belize and Gulf of Mexico have a lot so there is no reason why one could not be over this side of the Caribbean'],\n",
       "  ['sw', 'barbadoswhich', 'belize']],\n",
       " ['1912200793941',\n",
       "  ['These images were taken off Mafia Island off Tanzania when the team found themselves almost on top of a group of 11 feeding whale sharks'],\n",
       "  ['mafia', 'tanzania']],\n",
       " ['1912200793959',\n",
       "  ['These images were taken off Mafia Island off Tanzania when the team found themselves almost on top of a group of 11 feeding whale sharks'],\n",
       "  ['mafia', 'tanzania']],\n",
       " ['1912200794018',\n",
       "  ['These images were taken off Mafia Island off Tanzania when the team found themselves almost on top of a group of 11 feeding whale sharks'],\n",
       "  ['mafia', 'tanzania']],\n",
       " ['1922008172113',\n",
       "  ['Appeared to have the same caudal scarring as a female sighted later that day off Pumpkin Hill Beach  See encounter  18220081980'],\n",
       "  ['pumpkin']],\n",
       " ['1932010215837',\n",
       "  ['Its on the news ad not covered by international news Jeti Pengkalan Kekal Lestari Tok Bali Nelayan Kelantan Malaysia Going to be buried  '],\n",
       "  ['malaysia', 'bali']],\n",
       " ['197201221352',\n",
       "  ['Spotted on whaleshark dive with ningaloo whaleshark n dive company'],\n",
       "  ['ningaloo']],\n",
       " ['1ca4cb1f-67e2-41f9-ba5c-29f86b340caa',\n",
       "  ['On a tourist boat from Ningaloo Reef Dive'],\n",
       "  ['ningaloo']],\n",
       " ['20112007155842',\n",
       "  ['We stayed at the Dolphin Encounters Beach Camp in Ponto Du Oro last April and swam with this Whale Shark during one of our dolphin outings   These pictures were taken slightly up the coast heading north We were just beyond the wave break moving over the reef   4 of us got in to swim with the whaleshark we had a rather long swim 10 mins but when others attempted to join us the whaleshark quickly moved away   I was able to get two pictures before he swam away I used a water proof disposable camera so they are not the best pictures but wanted to share if they would be helpful'],\n",
       "  ['ponto du oro']],\n",
       " ['2011201291019',\n",
       "  ['Went Spearfishing South of Grand Isle Louisiana and this Whale shark showed up at the platform Video was shot with a liquid image HD camera mask  Source video '],\n",
       "  ['louisiana', 'whale']],\n",
       " ['2012200411351',\n",
       "  ['nick in tip trailing edge of upper caudal fin 2 nicks in outer trailing edge of left pectoral fin curved scarmark on upper midtrailing edge of left pectoral fin trailing edge of left pelvic fin frayed Tagged s 357 yellow floppy AquaSign tag left of Dorsal fin'],\n",
       "  ['dorsal']],\n",
       " ['2012200421217',\n",
       "  ['trailing edge of pelvic fin damaged fat shark 1m across just behind 2nd dorsal fin Tagged s 374 yellow floppy AquaSign tag left of Dorsal fin'],\n",
       "  ['dorsal']],\n",
       " ['201220083030',\n",
       "  ['Was fishing and he came by the boat  I guess to eat the plankton by the underwater light  I was flashing the UW camera at him to scare him away so I got this by mistake  A few months before a whale shark was doing this by a friends boat and it ran into the out drive and severely damaged it'],\n",
       "  ['uw']],\n",
       " ['2022010114224',\n",
       "  ['Requin vu A Brothers Island big brothers en Egypte  Cordonns et Type dendroit       Area Type Zone Type   Hypsographic Hypsographiques    Location Type Type dendroit   Islands Iles    Latitude Latitude   2631667 2631667    Longitude Longitude   3486667 3486667    Latitude DMS Latitude DMS   26 degrees 19 0 N 26 degrees 19 0 N    Longitude DMS Longitude DMS   34 degrees 52 0 E 34 degrees 52 0 E'],\n",
       "  ['longitude']],\n",
       " ['20220131421',\n",
       "  ['We saw this small whale shark when returning to the dive boat in St Maarten about 300km east of Puerto Rico It was about 5 meters long and absolutely beautiful As far as I know whale sharks havent been seen in St Maarten before please leave a response if you have Filmed by Peter Nayoski on 10012009 at dive spot Wreck Alloy  Source video '],\n",
       "  ['peter', 'st maarten', 'puerto rico']],\n",
       " ['204201073212',\n",
       "  ['Sighted whilst on Ningaloo Whale Shark n dive tour at easter  Not sure of correct coordinates but Google earth shows it as  22017066 113896723 Hope this helps and look forward to hearing from you  Jade Lee'],\n",
       "  ['ningaloo']],\n",
       " ['20920087340',\n",
       "  ['Seen around the platform daily during my time on board this platform Along with manta ray and dolphin Belive there are 3 whale sharks in area'],\n",
       "  ['belive']],\n",
       " ['2102013124159',\n",
       "  ['Source video   Footage from swimming with a whale shark off the West End of Roatan Bay Islands Honduras Was a big one probably 25  30 ft  Tracking him by the jumping schools of tuna and sardines it took 4 jumps into the water and about 30 minutes before we were finally able to find the whale shark and swim with him He stayed within 5 to 20 feet of the surface for about 20 minutes feeding on plankton before heading back down to deeper water'],\n",
       "  ['honduras', 'roatan']],\n",
       " ['21122004103525',\n",
       "  ['Fish was very friendly and appeared to be in good health  Shark Encounter off Galveston Submitted by Keith Landry     Often when folks hear the word shark it automatically brings to mind a vicious maneating teethwielding creature from the deep But for one group of anglers aboard the Dotty J a 47foot Viking Sport it was a onceinalifetime experience      While diving and fishing on Aug 16 our group encountered a 25foot whale shark 66 nautical miles off the Galveston shore near the Claypile Banks in about 160 feet of cobalt blue water We were able to keep the sharks attention by tossing it chopped squid which it consumed faster than a grade school student eating a Twinkie After catching a few of the Texas size Ling Cobia that were traveling with the shark we decided to focus our attention on the shark      The shark was lured to the back of the boat which has a large swim platform with chopped squid I climbed over a transom and onto the swim platform Raising my hand giving the shark a target to focus on I led the shark to the back of the boat with the chopped squid The shark came right up to the swim platform and allowed me to hand feed it and touch its broad flat snout as Joe Pepas Jr maneuvered the boat and took photos from the upper bridge tower I called for boat owner and captain Jack Pepas granddaughter Krystin Pepas Jaenicke to join me Without hesitation Jaenicke climbed over the transom and onto the platform extending her hand in friendship to the massive shark The shark made another approach to the swim platform feeding on the squid being tossed to it With fearless Jaenicke on the platform the shark opened its mouth raised its head and gently placed its chin on the swim platform allowing the group to rub its head and hand feed it chopped squid and Captain Jack Pepas Sr took close up shots of the encounter We were able to keep the shark near the boat for about an hour When we ran out of squid and cut bait the shark departed slowly on its way'],\n",
       "  ['raising', 'texas']]]"
      ]
     },
     "execution_count": 11,
     "metadata": {},
     "output_type": "execute_result"
    }
   ],
   "source": [
    "result"
   ]
  },
  {
   "cell_type": "markdown",
   "metadata": {},
   "source": [
    "### Functions to work with GeoNames API"
   ]
  },
  {
   "cell_type": "code",
   "execution_count": 12,
   "metadata": {},
   "outputs": [],
   "source": [
    "import requests\n",
    "\n",
    "def geoNamesSearch(item_original):\n",
    "    item = item_original.copy()\n",
    "    results = {}\n",
    "    \n",
    "    # Going through each identified location\n",
    "    for loc in item[2]:\n",
    "        r = \"http://api.geonames.org/search?type=json&fuzzy=0.4&formatted=true&maxRows=3&username=kirillovmr&style=short&q=\"+loc\n",
    "        resp = requests.get(r).json()\n",
    "        \n",
    "        if len(resp['geonames']) > 0:\n",
    "            results[loc] = []\n",
    "            # Going through each result\n",
    "            for geoItem in resp['geonames']:\n",
    "                results[loc].append(geoItem)\n",
    "    \n",
    "    item.append(results)\n",
    "    return item"
   ]
  },
  {
   "cell_type": "code",
   "execution_count": 13,
   "metadata": {},
   "outputs": [],
   "source": [
    "def __areHierarchyLocationsCloseToEachOther(hierarchy):\n",
    "    allowedDifference = 10\n",
    "    deepestLocationsLat = []\n",
    "    deepestLocationsLng = []\n",
    "    averageLocation = [0,0]\n",
    "    difference = [0,0]\n",
    "    \n",
    "    for item in hierarchy:\n",
    "        lat = float(item[len(item)-1]['lat'])\n",
    "        lng = float(item[len(item)-1]['lng'])\n",
    "        deepestLocationsLat.append(lat)\n",
    "        deepestLocationsLng.append(lng)\n",
    "        averageLocation[0] += lat\n",
    "        averageLocation[1] += lng\n",
    "    \n",
    "    # Calculating average\n",
    "    numLocations = len(deepestLocationsLat)\n",
    "    averageLocation[0] /= numLocations\n",
    "    averageLocation[1] /= numLocations\n",
    "    \n",
    "    # Calculating difference\n",
    "    for i in range(numLocations):\n",
    "        difference[0] += (abs(deepestLocationsLat[i]) - abs(averageLocation[0])) ** 2\n",
    "        difference[1] += (abs(deepestLocationsLng[i]) - abs(averageLocation[1])) ** 2\n",
    "        \n",
    "    # Checking actual difference with allowed\n",
    "    for i in range(2):\n",
    "        if difference[i] > allowedDifference:\n",
    "            return False\n",
    "    \n",
    "    # Difference within allowed range\n",
    "    return True\n",
    "\n",
    "def remainMostSpecificLocations(item_original):\n",
    "    item = item_original.copy()\n",
    "    \n",
    "    # Going through each key\n",
    "    for identifiedLocationName in item[3]:\n",
    "        # Going through each location object\n",
    "        hierarchy = []\n",
    "        for locObj in item[3][identifiedLocationName]:\n",
    "            # Getting hierarchy for each location id\n",
    "            r = \"http://api.geonames.org/hierarchy?type=json&formatted=true&username=kirillovmr&style=short&geonameId=\"+str(locObj['geonameId'])\n",
    "            resp = requests.get(r).json()\n",
    "            hierarchy.append(resp['geonames'])\n",
    "        print(\"Hierarchy for\", identifiedLocationName, \"close?\", __areHierarchyLocationsCloseToEachOther(hierarchy))\n",
    "    \n",
    "    return item\n",
    "\n",
    "# res3 = remainMostSpecificLocations(result2[0])"
   ]
  },
  {
   "cell_type": "code",
   "execution_count": 14,
   "metadata": {},
   "outputs": [
    {
     "name": "stderr",
     "output_type": "stream",
     "text": [
      "geoNamesSearch: 100%|██████████| 1/1 [00:01<00:00,  1.65s/it]\n",
      "remainMostSpecificLocations:   0%|          | 0/1 [00:00<?, ?it/s]"
     ]
    },
    {
     "name": "stdout",
     "output_type": "stream",
     "text": [
      "Hierarchy for sw close? False\n",
      "Hierarchy for barbadoswhich close? False\n"
     ]
    },
    {
     "name": "stderr",
     "output_type": "stream",
     "text": [
      "\r",
      "remainMostSpecificLocations: 100%|██████████| 1/1 [00:03<00:00,  3.45s/it]"
     ]
    },
    {
     "name": "stdout",
     "output_type": "stream",
     "text": [
      "Hierarchy for belize close? True\n"
     ]
    },
    {
     "name": "stderr",
     "output_type": "stream",
     "text": [
      "\n"
     ]
    }
   ],
   "source": [
    "pl2 = Pipe()\n",
    "pl2.addItemPipe(geoNamesSearch)\n",
    "pl2.addItemPipe(remainMostSpecificLocations)\n",
    "result2 = pl2(result[:1])"
   ]
  },
  {
   "cell_type": "code",
   "execution_count": 15,
   "metadata": {},
   "outputs": [
    {
     "data": {
      "text/plain": [
       "['19112010171749',\n",
       " ['Was on shore and saw a huge splashsaw a giant grey creature moving at surface like a powerful submarineit was fairly far outthen saw a huge flopping dorsal fin then a smaller second fin at first I thought 2 dolphins but it was an enormous fish swimming in the seathe largest I have ever seen in my lifeno one believed me but about 6 weeks laterthis weeka fisherman reported being terrified by a giant 40 sea monsterwith a huge open mouthcoming straight at his boat3 miles of the SW of Barbadoswhich is about 5 or 6 miles downwind from my beach His deion matched what I knew I sawhe said he tried clubbing itplease look into this quickly as it would be terrible for a creature like this to sufferthey are not known to be around Barbadosin recent times but I see Belize and Gulf of Mexico have a lot so there is no reason why one could not be over this side of the Caribbean'],\n",
       " ['sw', 'barbadoswhich', 'belize'],\n",
       " {'sw': [{'lng': '46.9093',\n",
       "    'geonameId': 113847,\n",
       "    'countryCode': 'IR',\n",
       "    'name': 'Sū',\n",
       "    'toponymName': 'Sū',\n",
       "    'lat': '35.1576',\n",
       "    'fcl': 'P',\n",
       "    'fcode': 'PPL'},\n",
       "   {'lng': '7.53195',\n",
       "    'geonameId': 11962896,\n",
       "    'countryCode': 'CH',\n",
       "    'name': 'Solothurn West',\n",
       "    'toponymName': 'Solothurn West',\n",
       "    'lat': '47.20671',\n",
       "    'fcl': 'S',\n",
       "    'fcode': 'RSTN'},\n",
       "   {'lng': '80.29935',\n",
       "    'geonameId': 1256911,\n",
       "    'countryCode': 'IN',\n",
       "    'name': 'Sehrāmaū',\n",
       "    'toponymName': 'Sehrāmaū',\n",
       "    'lat': '28.35804',\n",
       "    'fcl': 'S',\n",
       "    'fcode': 'RSTN'}],\n",
       "  'barbadoswhich': [{'lng': '-59.55165',\n",
       "    'geonameId': 3374084,\n",
       "    'countryCode': 'BB',\n",
       "    'name': 'Barbados',\n",
       "    'toponymName': 'Barbados',\n",
       "    'lat': '13.16453',\n",
       "    'fcl': 'A',\n",
       "    'fcode': 'PCLI'},\n",
       "   {'lng': '-70.93246',\n",
       "    'geonameId': 5082987,\n",
       "    'countryCode': 'US',\n",
       "    'name': 'Barbadoes Pond',\n",
       "    'toponymName': 'Barbadoes Pond',\n",
       "    'lat': '43.19029',\n",
       "    'fcl': 'H',\n",
       "    'fcode': 'LK'},\n",
       "   {'lng': '26.0139',\n",
       "    'geonameId': 630429,\n",
       "    'countryCode': 'BY',\n",
       "    'name': 'Baranovichi',\n",
       "    'toponymName': 'Baranovichi',\n",
       "    'lat': '53.1327',\n",
       "    'fcl': 'P',\n",
       "    'fcode': 'PPLA2'}],\n",
       "  'belize': [{'lng': '-88.75',\n",
       "    'geonameId': 3582678,\n",
       "    'countryCode': 'BZ',\n",
       "    'name': 'Belize',\n",
       "    'toponymName': 'Belize',\n",
       "    'lat': '17.25',\n",
       "    'fcl': 'A',\n",
       "    'fcode': 'PCLI'},\n",
       "   {'lng': '-88.19756',\n",
       "    'geonameId': 3582677,\n",
       "    'countryCode': 'BZ',\n",
       "    'name': 'Belize City',\n",
       "    'toponymName': 'Belize City',\n",
       "    'lat': '17.49952',\n",
       "    'fcl': 'P',\n",
       "    'fcode': 'PPLA'},\n",
       "   {'lng': '-88.41667',\n",
       "    'geonameId': 3582676,\n",
       "    'countryCode': 'BZ',\n",
       "    'name': 'Belize District',\n",
       "    'toponymName': 'Belize District',\n",
       "    'lat': '17.55',\n",
       "    'fcl': 'A',\n",
       "    'fcode': 'ADM1'}]}]"
      ]
     },
     "execution_count": 15,
     "metadata": {},
     "output_type": "execute_result"
    }
   ],
   "source": [
    "result2[0]"
   ]
  },
  {
   "cell_type": "code",
   "execution_count": 30,
   "metadata": {},
   "outputs": [
    {
     "name": "stdout",
     "output_type": "stream",
     "text": [
      "3\n"
     ]
    }
   ],
   "source": [
    "a = 3\n",
    "sentence = \"Was on shore and saw a huge splashsaw a giant grey creature moving at surface like a powerful submarineit was fairly far outthen saw a huge flopping dorsal fin then a smaller second fin at first I thought 2 dolphins but it was an enormous fish swimming in the seathe largest I have ever seen in my lifeno one believed me but about 6 weeks laterthis weeka fisherman reported being terrified by a giant 40 sea monsterwith a huge open mouthcoming straight at his boat3 miles of the SW of Barbadoswhich is about 5 or 6 miles downwind from my beach His deion matched what I knew I sawhe said he tried clubbing itplease look into this quickly as it would be terrible for a creature like this to sufferthey are not known to be around Barbadosin recent times but I see Belize and Gulf of Mexico have a lot so there is no reason why one could not be over this side of the Caribbean\"\n",
    "print(a)"
   ]
  },
  {
   "cell_type": "code",
   "execution_count": 32,
   "metadata": {},
   "outputs": [],
   "source": [
    "ss = nlp(sentence)"
   ]
  },
  {
   "cell_type": "code",
   "execution_count": 34,
   "metadata": {},
   "outputs": [
    {
     "name": "stdout",
     "output_type": "stream",
     "text": [
      "Was be\n",
      "on on\n",
      "shore shore\n",
      "and and\n",
      "saw see\n",
      "a a\n",
      "huge huge\n",
      "splashsaw splashsaw\n",
      "a a\n",
      "giant giant\n",
      "grey grey\n",
      "creature creature\n",
      "moving move\n",
      "at at\n",
      "surface surface\n",
      "like like\n",
      "a a\n",
      "powerful powerful\n",
      "submarineit submarineit\n",
      "was be\n",
      "fairly fairly\n",
      "far far\n",
      "outthen outthen\n",
      "saw see\n",
      "a a\n",
      "huge huge\n",
      "flopping flop\n",
      "dorsal dorsal\n",
      "fin fin\n",
      "then then\n",
      "a a\n",
      "smaller small\n",
      "second second\n",
      "fin fin\n",
      "at at\n",
      "first first\n",
      "I -PRON-\n",
      "thought think\n",
      "2 2\n",
      "dolphins dolphin\n",
      "but but\n",
      "it -PRON-\n",
      "was be\n",
      "an an\n",
      "enormous enormous\n",
      "fish fish\n",
      "swimming swimming\n",
      "in in\n",
      "the the\n",
      "seathe seathe\n",
      "largest large\n",
      "I -PRON-\n",
      "have have\n",
      "ever ever\n",
      "seen see\n",
      "in in\n",
      "my -PRON-\n",
      "lifeno lifeno\n",
      "one one\n",
      "believed believe\n",
      "me -PRON-\n",
      "but but\n",
      "about about\n",
      "6 6\n",
      "weeks week\n",
      "laterthis laterthis\n",
      "weeka weeka\n",
      "fisherman fisherman\n",
      "reported report\n",
      "being be\n",
      "terrified terrify\n",
      "by by\n",
      "a a\n",
      "giant giant\n",
      "40 40\n",
      "sea sea\n",
      "monsterwith monsterwith\n",
      "a a\n",
      "huge huge\n",
      "open open\n",
      "mouthcoming mouthcoming\n",
      "straight straight\n",
      "at at\n",
      "his -PRON-\n",
      "boat3 boat3\n",
      "miles mile\n",
      "of of\n",
      "the the\n",
      "SW SW\n",
      "of of\n",
      "Barbadoswhich Barbadoswhich\n",
      "is be\n",
      "about about\n",
      "5 5\n",
      "or or\n",
      "6 6\n",
      "miles mile\n",
      "downwind downwind\n",
      "from from\n",
      "my -PRON-\n",
      "beach beach\n",
      "His -PRON-\n",
      "deion deion\n",
      "matched match\n",
      "what what\n",
      "I -PRON-\n",
      "knew know\n",
      "I -PRON-\n",
      "sawhe sawhe\n",
      "said say\n",
      "he -PRON-\n",
      "tried try\n",
      "clubbing club\n",
      "itplease itplease\n",
      "look look\n",
      "into into\n",
      "this this\n",
      "quickly quickly\n",
      "as as\n",
      "it -PRON-\n",
      "would would\n",
      "be be\n",
      "terrible terrible\n",
      "for for\n",
      "a a\n",
      "creature creature\n",
      "like like\n",
      "this this\n",
      "to to\n",
      "sufferthey sufferthey\n",
      "are be\n",
      "not not\n",
      "known know\n",
      "to to\n",
      "be be\n",
      "around around\n",
      "Barbadosin Barbadosin\n",
      "recent recent\n",
      "times time\n",
      "but but\n",
      "I -PRON-\n",
      "see see\n",
      "Belize Belize\n",
      "and and\n",
      "Gulf Gulf\n",
      "of of\n",
      "Mexico Mexico\n",
      "have have\n",
      "a a\n",
      "lot lot\n",
      "so so\n",
      "there there\n",
      "is be\n",
      "no no\n",
      "reason reason\n",
      "why why\n",
      "one one\n",
      "could could\n",
      "not not\n",
      "be be\n",
      "over over\n",
      "this this\n",
      "side side\n",
      "of of\n",
      "the the\n",
      "Caribbean Caribbean\n"
     ]
    }
   ],
   "source": [
    "for w in ss:\n",
    "    print(w.text, w.lemma_)"
   ]
  },
  {
   "cell_type": "code",
   "execution_count": null,
   "metadata": {},
   "outputs": [],
   "source": []
  }
 ],
 "metadata": {
  "kernelspec": {
   "display_name": "Python 3",
   "language": "python",
   "name": "python3"
  },
  "language_info": {
   "codemirror_mode": {
    "name": "ipython",
    "version": 3
   },
   "file_extension": ".py",
   "mimetype": "text/x-python",
   "name": "python",
   "nbconvert_exporter": "python",
   "pygments_lexer": "ipython3",
   "version": "3.7.3"
  },
  "varInspector": {
   "cols": {
    "lenName": 16,
    "lenType": 16,
    "lenVar": 40
   },
   "kernels_config": {
    "python": {
     "delete_cmd_postfix": "",
     "delete_cmd_prefix": "del ",
     "library": "var_list.py",
     "varRefreshCmd": "print(var_dic_list())"
    },
    "r": {
     "delete_cmd_postfix": ") ",
     "delete_cmd_prefix": "rm(",
     "library": "var_list.r",
     "varRefreshCmd": "cat(var_dic_list()) "
    }
   },
   "types_to_exclude": [
    "module",
    "function",
    "builtin_function_or_method",
    "instance",
    "_Feature"
   ],
   "window_display": false
  }
 },
 "nbformat": 4,
 "nbformat_minor": 2
}
