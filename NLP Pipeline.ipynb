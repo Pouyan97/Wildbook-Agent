{
 "cells": [
  {
   "cell_type": "code",
   "execution_count": 1,
   "metadata": {},
   "outputs": [],
   "source": [
    "from misc import loadProperties, loadWEKA\n",
    "\n",
    "props = loadProperties('submitActionClass.properties')\n",
    "(data, attr) = loadWEKA('youTubeLocationIDWeka.csv', limit=0)"
   ]
  },
  {
   "cell_type": "markdown",
   "metadata": {},
   "source": [
    "#### Adjusting spacy's pipeline"
   ]
  },
  {
   "cell_type": "code",
   "execution_count": 2,
   "metadata": {},
   "outputs": [],
   "source": [
    "import spacy\n",
    "from spacy.tokens import Span\n",
    "from spacy.matcher import PhraseMatcher\n",
    "\n",
    "nlp = spacy.load(\"en_core_web_sm\")\n",
    "\n",
    "locations = [x for x in props] # Array of known locations from .properties\n",
    "location_patterns = list(nlp.pipe(locations))\n",
    "\n",
    "matcher = PhraseMatcher(nlp.vocab, attr='LOWER')\n",
    "matcher.add(\"LOCATION\", None, *location_patterns)\n",
    "\n",
    "# Define the custom component\n",
    "def location_component(doc):\n",
    "    # Apply the matcher to the doc\n",
    "    matches = matcher(doc)\n",
    "    # Create a Span for each match and assign the label 'LOCATION'\n",
    "    # Overwrite the doc.ents with the matched spans\n",
    "    doc.ents = [Span(doc, start, end, label=\"LOCATION\") for match_id, start, end in matches]\n",
    "    return doc\n",
    "\n",
    "# Add the component to the pipeline after the 'ner' component\n",
    "nlp.add_pipe(location_component, before='ner')"
   ]
  },
  {
   "cell_type": "markdown",
   "metadata": {},
   "source": [
    "#### Defining functions for pipeline"
   ]
  },
  {
   "cell_type": "code",
   "execution_count": 3,
   "metadata": {},
   "outputs": [],
   "source": [
    "# Uses spacy to look up for location in a strings. Returns Array of matches\n",
    "def nlpLocation(string):\n",
    "    spacy_mathc = []\n",
    "    for ent in nlp(string).ents:\n",
    "        if ent.label_ == \"GPE\" or ent.label_ == \"LOCATION\":\n",
    "            spacy_mathc.append(ent.text.lower())\n",
    "    return spacy_mathc\n",
    "\n",
    "def matchLocationV3(item_original):\n",
    "    item = item_original.copy()\n",
    "    locations = []\n",
    "\n",
    "    locations += nlpLocation(item[2].replace(\"'\",\"\")) # Title\n",
    "    locations += nlpLocation(item[3].replace(\"'\",\"\")) # Tags\n",
    "    locations += nlpLocation(item[4].replace(\"'\",\"\")) # Descr\n",
    "      \n",
    "    item.append(locations)\n",
    "    return item\n",
    "\n",
    "# matchLocationV3(data2[405])"
   ]
  },
  {
   "cell_type": "code",
   "execution_count": 4,
   "metadata": {},
   "outputs": [],
   "source": [
    "def removeDuplicateLocation(item_original):\n",
    "    item = item_original.copy()\n",
    "    item[7] = list(set(item[7]))\n",
    "    return item"
   ]
  },
  {
   "cell_type": "code",
   "execution_count": 5,
   "metadata": {},
   "outputs": [],
   "source": [
    "def printItem(item_original):\n",
    "    print(item_original)\n",
    "    print()\n",
    "    return item_original"
   ]
  },
  {
   "cell_type": "code",
   "execution_count": 6,
   "metadata": {},
   "outputs": [],
   "source": [
    "def onlyItemsWithPayload(item_original):\n",
    "    if item_original[2] or item_original[3] or item_original[4]:\n",
    "        return True\n",
    "    return False"
   ]
  },
  {
   "cell_type": "code",
   "execution_count": 7,
   "metadata": {},
   "outputs": [],
   "source": [
    "def onlyItemsWithMatchedLocation(item_original):\n",
    "    if len(item_original[7]) > 0:\n",
    "        return True\n",
    "    return False"
   ]
  },
  {
   "cell_type": "code",
   "execution_count": 11,
   "metadata": {},
   "outputs": [],
   "source": [
    "def countStats(acc, item):\n",
    "    acc[\"total\"] += 1\n",
    "    if item[2] or item[3] or item[4]:\n",
    "        acc[\"hasDataToAnalyze\"] += 1\n",
    "    if len(item[7]) > 0:\n",
    "        acc[\"identified\"] += 1\n",
    "    return acc\n",
    "def printStats(stats):\n",
    "    print(stats[\"total\"], \"items were processed in total.\")\n",
    "    print(stats[\"hasDataToAnalyze\"], \"of them had title,description or tags to analyze.\")\n",
    "    print(stats[\"identified\"], \"out of\", stats[\"hasDataToAnalyze\"], \"were matched with potential location\")"
   ]
  },
  {
   "cell_type": "markdown",
   "metadata": {},
   "source": [
    "#### Initializing and running the pipeline"
   ]
  },
  {
   "cell_type": "code",
   "execution_count": 10,
   "metadata": {},
   "outputs": [
    {
     "name": "stderr",
     "output_type": "stream",
     "text": [
      "onlyItemsWithPayload: 100%|██████████| 1800/1800 [00:00<00:00, 1223621.91it/s]\n",
      "matchLocationV3: 100%|██████████| 394/394 [00:03<00:00, 113.91it/s]\n",
      "removeDuplicateLocation: 100%|██████████| 394/394 [00:00<00:00, 661286.83it/s]\n",
      "countStats: 100%|██████████| 394/394 [00:00<00:00, 536021.98it/s]\n"
     ]
    },
    {
     "name": "stdout",
     "output_type": "stream",
     "text": [
      "394 items were processed in total.\n",
      "394 of them had title,description or tags to analyze.\n",
      "19 out of 394 were matched with potential location\n"
     ]
    },
    {
     "name": "stderr",
     "output_type": "stream",
     "text": [
      "onlyItemsWithMatchedLocation: 100%|██████████| 394/394 [00:00<00:00, 944857.50it/s]\n"
     ]
    }
   ],
   "source": [
    "from customPipeline import Pipe\n",
    "data = data[:1800]\n",
    "\n",
    "pl = Pipe()\n",
    "pl.addDataPipe(onlyItemsWithPayload)\n",
    "pl.addItemPipe(matchLocationV3)\n",
    "pl.addItemPipe(removeDuplicateLocation)\n",
    "pl.addStatPipe(countStats, printStats, {\"total\":0, \"hasDataToAnalyze\":0, \"identified\":0})\n",
    "pl.addDataPipe(onlyItemsWithMatchedLocation)\n",
    "# pl.addPipe(printItem)\n",
    "result = pl(data)"
   ]
  },
  {
   "cell_type": "markdown",
   "metadata": {},
   "source": [
    "### Functions to work with GeoNames API"
   ]
  },
  {
   "cell_type": "code",
   "execution_count": 57,
   "metadata": {},
   "outputs": [],
   "source": [
    "import requests\n",
    "\n",
    "def geoNamesSearch(item_original):\n",
    "    item = item_original.copy()\n",
    "    results = []\n",
    "    \n",
    "    # Going through each identified location\n",
    "    for loc in item[7]:\n",
    "        r = \"http://api.geonames.org/search?type=json&formatted=true&maxRows=3&username=kirillovmr&style=short&q=\"+loc\n",
    "        resp = requests.get(r).json()\n",
    "        \n",
    "        if len(resp['geonames']) > 0:\n",
    "            geoObj = {loc: []}\n",
    "            # Going through each result\n",
    "            for geoItem in resp['geonames']:\n",
    "                geoObj[loc].append(geoItem)\n",
    "            results.append(geoObj)\n",
    "    \n",
    "    item.append(results)\n",
    "    return item"
   ]
  },
  {
   "cell_type": "code",
   "execution_count": 58,
   "metadata": {},
   "outputs": [
    {
     "name": "stderr",
     "output_type": "stream",
     "text": [
      "geoNamesSearch: 100%|██████████| 1/1 [00:00<00:00,  1.48it/s]\n"
     ]
    },
    {
     "data": {
      "text/plain": [
       "[['19112010171749',\n",
       "  '',\n",
       "  '',\n",
       "  '',\n",
       "  'Was on shore and saw a huge splashsaw a giant grey creature moving at surface like a powerful submarineit was fairly far outthen saw a huge flopping dorsal fin then a smaller second fin at first I thought 2 dolphins but it was an enormous fish swimming in the seathe largest I have ever seen in my lifeno one believed me but about 6 weeks laterthis weeka fisherman reported being terrified by a giant 40 sea monsterwith a huge open mouthcoming straight at his boat3 miles of the SW of Barbadoswhich is about 5 or 6 miles downwind from my beach His deion matched what I knew I sawhe said he tried clubbing itplease look into this quickly as it would be terrible for a creature like this to sufferthey are not known to be around Barbadosin recent times but I see Belize and Gulf of Mexico have a lot so there is no reason why one could not be over this side of the Caribbean',\n",
       "  'South Coast of Barbados off Hastings',\n",
       "  'null',\n",
       "  ['belize', 'barbadoswhich', 'sw'],\n",
       "  [{'belize': [{'lng': '-88.75',\n",
       "      'geonameId': 3582678,\n",
       "      'countryCode': 'BZ',\n",
       "      'name': 'Belize',\n",
       "      'toponymName': 'Belize',\n",
       "      'lat': '17.25',\n",
       "      'fcl': 'A',\n",
       "      'fcode': 'PCLI'},\n",
       "     {'lng': '-88.19756',\n",
       "      'geonameId': 3582677,\n",
       "      'countryCode': 'BZ',\n",
       "      'name': 'Belize City',\n",
       "      'toponymName': 'Belize City',\n",
       "      'lat': '17.49952',\n",
       "      'fcl': 'P',\n",
       "      'fcode': 'PPLA'},\n",
       "     {'lng': '-88.41667',\n",
       "      'geonameId': 3582676,\n",
       "      'countryCode': 'BZ',\n",
       "      'name': 'Belize District',\n",
       "      'toponymName': 'Belize District',\n",
       "      'lat': '17.55',\n",
       "      'fcl': 'A',\n",
       "      'fcode': 'ADM1'}]},\n",
       "   {'sw': [{'lng': '2.48268',\n",
       "      'geonameId': 3017910,\n",
       "      'countryCode': 'FR',\n",
       "      'name': 'Fontenay-sous-Bois',\n",
       "      'toponymName': 'Fontenay-sous-Bois',\n",
       "      'lat': '48.85442',\n",
       "      'fcl': 'P',\n",
       "      'fcode': 'PPL'},\n",
       "     {'lng': '2.49402',\n",
       "      'geonameId': 3036145,\n",
       "      'countryCode': 'FR',\n",
       "      'name': 'Aulnay-sous-Bois',\n",
       "      'toponymName': 'Aulnay-sous-Bois',\n",
       "      'lat': '48.93814',\n",
       "      'fcl': 'P',\n",
       "      'fcode': 'PPL'},\n",
       "     {'lng': '-96.40031',\n",
       "      'geonameId': 4876523,\n",
       "      'countryCode': 'US',\n",
       "      'name': 'Sioux City',\n",
       "      'toponymName': 'Sioux City',\n",
       "      'lat': '42.49999',\n",
       "      'fcl': 'P',\n",
       "      'fcode': 'PPLA2'}]}]]]"
      ]
     },
     "execution_count": 58,
     "metadata": {},
     "output_type": "execute_result"
    }
   ],
   "source": [
    "pl2 = Pipe()\n",
    "pl2.addItemPipe(geoNamesSearch)\n",
    "pl2(result[:1])"
   ]
  },
  {
   "cell_type": "code",
   "execution_count": null,
   "metadata": {},
   "outputs": [],
   "source": []
  }
 ],
 "metadata": {
  "kernelspec": {
   "display_name": "Python 3",
   "language": "python",
   "name": "python3"
  },
  "language_info": {
   "codemirror_mode": {
    "name": "ipython",
    "version": 3
   },
   "file_extension": ".py",
   "mimetype": "text/x-python",
   "name": "python",
   "nbconvert_exporter": "python",
   "pygments_lexer": "ipython3",
   "version": "3.7.1"
  }
 },
 "nbformat": 4,
 "nbformat_minor": 2
}
